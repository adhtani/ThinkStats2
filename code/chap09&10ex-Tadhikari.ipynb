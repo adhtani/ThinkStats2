{
 "cells": [
  {
   "cell_type": "markdown",
   "metadata": {},
   "source": [
    "# Exercise 9-1 & 10-1\n",
    "\n",
    "### DSC530\n",
    "#### Taniya Adhikari\n",
    "##### 11/01/2020"
   ]
  },
  {
   "cell_type": "code",
   "execution_count": 122,
   "metadata": {},
   "outputs": [],
   "source": [
    "from __future__ import print_function, division\n",
    "\n",
    "%matplotlib inline\n",
    "\n",
    "import numpy as np\n",
    "\n",
    "import random\n",
    "\n",
    "import thinkstats2\n",
    "import thinkplot\n",
    "import scipy"
   ]
  },
  {
   "cell_type": "markdown",
   "metadata": {},
   "source": [
    "## Exercise 9-1"
   ]
  },
  {
   "cell_type": "markdown",
   "metadata": {},
   "source": [
    "## Hypothesis testing"
   ]
  },
  {
   "cell_type": "code",
   "execution_count": 76,
   "metadata": {},
   "outputs": [],
   "source": [
    "class HypothesisTest(object):\n",
    "\n",
    "    def __init__(self, data):\n",
    "        self.data = data\n",
    "        self.MakeModel()\n",
    "        self.actual = self.TestStatistic(data)\n",
    "\n",
    "    def PValue(self, iters=1000):\n",
    "        self.test_stats = [self.TestStatistic(self.RunModel()) \n",
    "                           for _ in range(iters)]\n",
    "\n",
    "        count = sum(1 for x in self.test_stats if x >= self.actual)\n",
    "        return count / iters\n",
    "\n",
    "    def TestStatistic(self, data):\n",
    "        raise UnimplementedMethodException()\n",
    "\n",
    "    def MakeModel(self):\n",
    "        pass\n",
    "\n",
    "    def RunModel(self):\n",
    "        raise UnimplementedMethodException()"
   ]
  },
  {
   "cell_type": "markdown",
   "metadata": {},
   "source": [
    "**Exercise:** As sample size increases, the power of a hypothesis test increases, which means it is more likely to be positive if the effect is real. Conversely, as sample size decreases, the test is less likely to be positive even if the effect is real.\n",
    "\n",
    "To investigate this behavior, run the tests in this chapter with different subsets of the NSFG data. You can use `thinkstats2.SampleRows` to select a random subset of the rows in a DataFrame.\n",
    "\n",
    "What happens to the p-values of these tests as sample size decreases? What is the smallest sample size that yields a positive test?"
   ]
  },
  {
   "cell_type": "markdown",
   "metadata": {},
   "source": [
    "## Permutation test\n",
    "\n",
    "To compute the p-value of an observed difference in means, we can assume that there is no difference between the groups and generate simulated results by shuffling the data."
   ]
  },
  {
   "cell_type": "code",
   "execution_count": 77,
   "metadata": {},
   "outputs": [],
   "source": [
    "class DiffMeansPermute(thinkstats2.HypothesisTest):\n",
    "    \n",
    "    # calculates the absolute difference in mean for both groups\n",
    "    def TestStatistic(self, data):\n",
    "        group1, group2 = data\n",
    "        test_stat = abs(group1.mean() - group2.mean())\n",
    "        return test_stat\n",
    "    \n",
    "    # combines the two groups into one\n",
    "    def MakeModel(self):\n",
    "        group1, group2 = self.data\n",
    "        self.n, self.m = len(group1), len(group2)\n",
    "        self.pool = np.hstack((group1, group2))\n",
    "\n",
    "    # simulates the null hypothesis\n",
    "    def RunModel(self):\n",
    "        np.random.shuffle(self.pool)\n",
    "        data = self.pool[:self.n], self.pool[self.n:]\n",
    "        return data"
   ]
  },
  {
   "cell_type": "markdown",
   "metadata": {},
   "source": [
    "## Difference in standard deviation\n",
    "\n",
    "In this framework, it is easy to use other test statistics.  For example, if we think the variance for first babies might be higher, we can run this test:"
   ]
  },
  {
   "cell_type": "code",
   "execution_count": 78,
   "metadata": {},
   "outputs": [],
   "source": [
    "class DiffStdPermute(DiffMeansPermute):\n",
    "\n",
    "    # calculates difference in standard deviation\n",
    "    def TestStatistic(self, data):\n",
    "        group1, group2 = data\n",
    "        test_stat = group1.std() - group2.std()\n",
    "        return test_stat"
   ]
  },
  {
   "cell_type": "markdown",
   "metadata": {},
   "source": [
    "## Testing correlation\n",
    "\n",
    "To check whether an observed correlation is statistically significant, we can run a permutation test with a different test statistic."
   ]
  },
  {
   "cell_type": "code",
   "execution_count": 79,
   "metadata": {},
   "outputs": [],
   "source": [
    "class CorrelationPermute(thinkstats2.HypothesisTest):\n",
    "\n",
    "    # calculates correlation\n",
    "    def TestStatistic(self, data):\n",
    "        xs, ys = data\n",
    "        test_stat = abs(thinkstats2.Corr(xs, ys))\n",
    "        return test_stat\n",
    "\n",
    "    # simulates the null hypothesis\n",
    "    def RunModel(self):\n",
    "        xs, ys = self.data\n",
    "        xs = np.random.permutation(xs)\n",
    "        return xs, ys"
   ]
  },
  {
   "cell_type": "markdown",
   "metadata": {},
   "source": [
    "## Chi-square test of pregnancy length"
   ]
  },
  {
   "cell_type": "code",
   "execution_count": 80,
   "metadata": {},
   "outputs": [],
   "source": [
    "class PregLengthTest(thinkstats2.HypothesisTest):\n",
    "\n",
    "    # pools the two group\n",
    "    def MakeModel(self):\n",
    "        firsts, others = self.data\n",
    "        self.n = len(firsts)\n",
    "        self.pool = np.hstack((firsts, others))\n",
    "\n",
    "        pmf = thinkstats2.Pmf(self.pool)\n",
    "        self.values = range(35, 44)\n",
    "        self.expected_probs = np.array(pmf.Probs(self.values))\n",
    "\n",
    "    # simulates the null hypothesis\n",
    "    def RunModel(self):\n",
    "        np.random.shuffle(self.pool)\n",
    "        data = self.pool[:self.n], self.pool[self.n:]\n",
    "        return data\n",
    "    \n",
    "    # computes ChiSquared statistics\n",
    "    def TestStatistic(self, data):\n",
    "        firsts, others = data\n",
    "        stat = self.ChiSquared(firsts) + self.ChiSquared(others)\n",
    "        return stat\n",
    "\n",
    "    # computes observed frequencies and expected frequencies. Also creates Histogram.\n",
    "    def ChiSquared(self, lengths):\n",
    "        hist = thinkstats2.Hist(lengths)\n",
    "        observed = np.array(hist.Freqs(self.values))\n",
    "        expected = self.expected_probs * len(lengths)\n",
    "        stat = sum((observed - expected)**2 / expected)\n",
    "        return stat"
   ]
  },
  {
   "cell_type": "markdown",
   "metadata": {},
   "source": [
    "### Answer 9-1"
   ]
  },
  {
   "cell_type": "code",
   "execution_count": 81,
   "metadata": {},
   "outputs": [],
   "source": [
    "def tests(live, iters=1000):\n",
    "\n",
    "    n = len(live)\n",
    "    firsts = live[live.birthord == 1]  # creates first group\n",
    "    others = live[live.birthord != 1]  # creates others group\n",
    "    print(\"The sample size is {}\".format(n))\n",
    "    \n",
    "    # Test 1: compare mean pregnancy lengths\n",
    "    # H_0: There is no difference between the mean pregnancy length between the first babies and others\n",
    "    # H_1: There is a difference in means.    \n",
    "    data1 = firsts.prglngth.values, others.prglngth.values\n",
    "    dt1 = DiffMeansPermute(data1)\n",
    "    pvalue1 = dt1.PValue(iters=iters)\n",
    "    print(\"Test 1: Difference in mean of pregnancy lengths for firsts and others. The p-value is {}\".format(pvalue1))\n",
    "    \n",
    "    # Test 2: compare variance pregnancy lengths\n",
    "    # H_0: There is no difference between the variance pregnancy length between the first babies and others\n",
    "    # H_1: There is a difference in variance.    \n",
    "    dt2 = DiffStdPermute(data1)\n",
    "    pvalue2 = dt2.PValue()\n",
    "    print(\"Test 2: Difference in variance of pregnancy lengths for firsts and others. The p-value is {}\".format(pvalue2))\n",
    "\n",
    "    # Test 3: Testing Correlation\n",
    "    # H_0: There is no correlation between mother's age and birth weight\n",
    "    # H_1: There is a correlation\n",
    "    cleaned = live.dropna(subset=['agepreg', 'totalwgt_lb'])  # drops any missing values\n",
    "    data2 = cleaned.agepreg.values, cleaned.totalwgt_lb.values\n",
    "    dt3 = CorrelationPermute(data2)\n",
    "    pvalue3 = dt3.PValue(iters=iters)\n",
    "    print(\"Test 3: Correlation between mother's age and birth weight. The p-value is {}\".format(pvalue3))\n",
    "    \n",
    "    \n",
    "    # Test 4: Testing Proportions - Chi-Squared\n",
    "    # H_0: There is no difference in observed and expected frequencies for each value\n",
    "    # H_1: There is a difference\n",
    "    data1 = firsts.prglngth.values, others.prglngth.values\n",
    "    dt4 = PregLengthTest(data1)\n",
    "    pvalue4 = dt4.PValue(iters=iters)\n",
    "    print(\"Test 4: Chi-Squared Test. The p-value is {}\\n\".format(pvalue4))\n",
    "    \n",
    "    "
   ]
  },
  {
   "cell_type": "code",
   "execution_count": 82,
   "metadata": {},
   "outputs": [
    {
     "name": "stdout",
     "output_type": "stream",
     "text": [
      "The sample size is 9148\n",
      "Test 1: Difference in mean of pregnancy lengths for firsts and others. The p-value is 0.184\n",
      "Test 2: Difference in variance of pregnancy lengths for firsts and others. The p-value is 0.089\n",
      "Test 3: Correlation between mother's age and birth weight. The p-value is 0.0\n",
      "Test 4: Chi-Squared Test. The p-value is 0.0\n",
      "\n",
      "The sample size is 4574\n",
      "Test 1: Difference in mean of pregnancy lengths for firsts and others. The p-value is 0.547\n",
      "Test 2: Difference in variance of pregnancy lengths for firsts and others. The p-value is 0.102\n",
      "Test 3: Correlation between mother's age and birth weight. The p-value is 0.0\n",
      "Test 4: Chi-Squared Test. The p-value is 0.0\n",
      "\n",
      "The sample size is 2287\n",
      "Test 1: Difference in mean of pregnancy lengths for firsts and others. The p-value is 0.587\n",
      "Test 2: Difference in variance of pregnancy lengths for firsts and others. The p-value is 0.098\n",
      "Test 3: Correlation between mother's age and birth weight. The p-value is 0.002\n",
      "Test 4: Chi-Squared Test. The p-value is 0.0\n",
      "\n",
      "The sample size is 1143\n",
      "Test 1: Difference in mean of pregnancy lengths for firsts and others. The p-value is 0.203\n",
      "Test 2: Difference in variance of pregnancy lengths for firsts and others. The p-value is 0.526\n",
      "Test 3: Correlation between mother's age and birth weight. The p-value is 0.218\n",
      "Test 4: Chi-Squared Test. The p-value is 0.581\n",
      "\n",
      "The sample size is 571\n",
      "Test 1: Difference in mean of pregnancy lengths for firsts and others. The p-value is 0.151\n",
      "Test 2: Difference in variance of pregnancy lengths for firsts and others. The p-value is 0.572\n",
      "Test 3: Correlation between mother's age and birth weight. The p-value is 0.012\n",
      "Test 4: Chi-Squared Test. The p-value is 0.187\n",
      "\n",
      "The sample size is 285\n",
      "Test 1: Difference in mean of pregnancy lengths for firsts and others. The p-value is 0.029\n",
      "Test 2: Difference in variance of pregnancy lengths for firsts and others. The p-value is 0.851\n",
      "Test 3: Correlation between mother's age and birth weight. The p-value is 0.023\n",
      "Test 4: Chi-Squared Test. The p-value is 0.173\n",
      "\n",
      "The sample size is 142\n",
      "Test 1: Difference in mean of pregnancy lengths for firsts and others. The p-value is 0.106\n",
      "Test 2: Difference in variance of pregnancy lengths for firsts and others. The p-value is 0.155\n",
      "Test 3: Correlation between mother's age and birth weight. The p-value is 0.014\n",
      "Test 4: Chi-Squared Test. The p-value is 0.787\n",
      "\n",
      "The sample size is 71\n",
      "Test 1: Difference in mean of pregnancy lengths for firsts and others. The p-value is 0.605\n",
      "Test 2: Difference in variance of pregnancy lengths for firsts and others. The p-value is 0.635\n",
      "Test 3: Correlation between mother's age and birth weight. The p-value is 0.503\n",
      "Test 4: Chi-Squared Test. The p-value is 0.47\n",
      "\n"
     ]
    }
   ],
   "source": [
    "import first\n",
    "\n",
    "live, firsts, others = first.MakeFrames()\n",
    "n = len(live)\n",
    "\n",
    "# creates 5 different random subset of NSFG data\n",
    "for _ in range(8):\n",
    "    sample = thinkstats2.SampleRows(live, n)\n",
    "    tests(sample)\n",
    "    n //= 2"
   ]
  },
  {
   "cell_type": "markdown",
   "metadata": {},
   "source": [
    "**As the sample size started decreasing the p-value started increasing in most tests. However, it didn't do the same for all tests and gave random p-value. There are some p-values that are small even with smaller sample size. For example\n",
    "n = 571 and correlation p-value = 0.012, or n = 142 and correlation p-value = 0.014**\n",
    "\n"
   ]
  },
  {
   "cell_type": "markdown",
   "metadata": {},
   "source": [
    "## Exercise 10-1"
   ]
  },
  {
   "cell_type": "markdown",
   "metadata": {},
   "source": [
    "**Exercise:** Using the data from the BRFSS, compute the linear least squares fit for log(weight) versus height. How would you best present the estimated parameters for a model like this where one of the variables is log-transformed? If you were trying to guess someone’s weight, how much would it help to know their height?\n",
    "\n",
    "Like the NSFG, the BRFSS oversamples some groups and provides a sampling weight for each respondent. In the BRFSS data, the variable name for these weights is totalwt. Use resampling, with and without weights, to estimate the mean height of respondents in the BRFSS, the standard error of the mean, and a 90% confidence interval. How much does correct weighting affect the estimates?"
   ]
  },
  {
   "cell_type": "markdown",
   "metadata": {},
   "source": [
    "The following function computes the intercept and slope of the least squares fit."
   ]
  },
  {
   "cell_type": "code",
   "execution_count": 128,
   "metadata": {},
   "outputs": [],
   "source": [
    "from thinkstats2 import Mean, MeanVar, Var, Std, Cov\n",
    "\n",
    "# calculates slope and intercepttof the relationship\n",
    "def LeastSquares(xs, ys):\n",
    "    meanx, varx = MeanVar(xs)\n",
    "    meany = Mean(ys)\n",
    "\n",
    "    # calculates covariance of x & y and then divide it by x variance.\n",
    "    # slope of the linear fit\n",
    "    slope = Cov(xs, ys, meanx, meany) / varx\n",
    "    \n",
    "    # intercept of the linear fit\n",
    "    inter = meany - slope * meanx\n",
    "\n",
    "    return inter, slope\n",
    "\n",
    "\n",
    "# function for fitted line.\n",
    "def FitLine(xs, inter, slope):\n",
    "    fit_xs = np.sort(xs)\n",
    "    fit_ys = inter + slope * fit_xs\n",
    "    return fit_xs, fit_ys\n",
    "\n",
    "\n",
    "# returns the difference between actual values and fitted lines\n",
    "def Residuals(xs, ys, inter, slope):\n",
    "    xs = np.asarray(xs)\n",
    "    ys = np.asarray(ys)   # observed values\n",
    "    yhat = inter + slope * xs   # expected values\n",
    "    res = ys - yhat\n",
    "    return res\n",
    "\n",
    "# r-squared\n",
    "def CoefDetermination(ys, res):\n",
    "    return 1 - Var(res) / Var(ys)"
   ]
  },
  {
   "cell_type": "code",
   "execution_count": 92,
   "metadata": {},
   "outputs": [
    {
     "data": {
      "text/html": [
       "<div>\n",
       "<style scoped>\n",
       "    .dataframe tbody tr th:only-of-type {\n",
       "        vertical-align: middle;\n",
       "    }\n",
       "\n",
       "    .dataframe tbody tr th {\n",
       "        vertical-align: top;\n",
       "    }\n",
       "\n",
       "    .dataframe thead th {\n",
       "        text-align: right;\n",
       "    }\n",
       "</style>\n",
       "<table border=\"1\" class=\"dataframe\">\n",
       "  <thead>\n",
       "    <tr style=\"text-align: right;\">\n",
       "      <th></th>\n",
       "      <th>age</th>\n",
       "      <th>sex</th>\n",
       "      <th>wtyrago</th>\n",
       "      <th>finalwt</th>\n",
       "      <th>wtkg2</th>\n",
       "      <th>htm3</th>\n",
       "    </tr>\n",
       "  </thead>\n",
       "  <tbody>\n",
       "    <tr>\n",
       "      <th>0</th>\n",
       "      <td>82.0</td>\n",
       "      <td>2</td>\n",
       "      <td>76.363636</td>\n",
       "      <td>185.870345</td>\n",
       "      <td>70.91</td>\n",
       "      <td>157.0</td>\n",
       "    </tr>\n",
       "    <tr>\n",
       "      <th>1</th>\n",
       "      <td>65.0</td>\n",
       "      <td>2</td>\n",
       "      <td>72.727273</td>\n",
       "      <td>126.603027</td>\n",
       "      <td>72.73</td>\n",
       "      <td>163.0</td>\n",
       "    </tr>\n",
       "    <tr>\n",
       "      <th>3</th>\n",
       "      <td>61.0</td>\n",
       "      <td>1</td>\n",
       "      <td>73.636364</td>\n",
       "      <td>517.926275</td>\n",
       "      <td>73.64</td>\n",
       "      <td>170.0</td>\n",
       "    </tr>\n",
       "    <tr>\n",
       "      <th>4</th>\n",
       "      <td>26.0</td>\n",
       "      <td>1</td>\n",
       "      <td>88.636364</td>\n",
       "      <td>1252.624630</td>\n",
       "      <td>88.64</td>\n",
       "      <td>185.0</td>\n",
       "    </tr>\n",
       "    <tr>\n",
       "      <th>5</th>\n",
       "      <td>42.0</td>\n",
       "      <td>1</td>\n",
       "      <td>118.181818</td>\n",
       "      <td>415.161314</td>\n",
       "      <td>109.09</td>\n",
       "      <td>183.0</td>\n",
       "    </tr>\n",
       "    <tr>\n",
       "      <th>...</th>\n",
       "      <td>...</td>\n",
       "      <td>...</td>\n",
       "      <td>...</td>\n",
       "      <td>...</td>\n",
       "      <td>...</td>\n",
       "      <td>...</td>\n",
       "    </tr>\n",
       "    <tr>\n",
       "      <th>414504</th>\n",
       "      <td>23.0</td>\n",
       "      <td>1</td>\n",
       "      <td>84.090909</td>\n",
       "      <td>43.439320</td>\n",
       "      <td>88.64</td>\n",
       "      <td>191.0</td>\n",
       "    </tr>\n",
       "    <tr>\n",
       "      <th>414505</th>\n",
       "      <td>49.0</td>\n",
       "      <td>2</td>\n",
       "      <td>70.454545</td>\n",
       "      <td>6.216538</td>\n",
       "      <td>72.73</td>\n",
       "      <td>170.0</td>\n",
       "    </tr>\n",
       "    <tr>\n",
       "      <th>414506</th>\n",
       "      <td>45.0</td>\n",
       "      <td>1</td>\n",
       "      <td>86.363636</td>\n",
       "      <td>20.617560</td>\n",
       "      <td>90.91</td>\n",
       "      <td>178.0</td>\n",
       "    </tr>\n",
       "    <tr>\n",
       "      <th>414507</th>\n",
       "      <td>52.0</td>\n",
       "      <td>2</td>\n",
       "      <td>89.090909</td>\n",
       "      <td>11.188138</td>\n",
       "      <td>89.09</td>\n",
       "      <td>157.0</td>\n",
       "    </tr>\n",
       "    <tr>\n",
       "      <th>414508</th>\n",
       "      <td>38.0</td>\n",
       "      <td>1</td>\n",
       "      <td>75.000000</td>\n",
       "      <td>25.989792</td>\n",
       "      <td>75.00</td>\n",
       "      <td>178.0</td>\n",
       "    </tr>\n",
       "  </tbody>\n",
       "</table>\n",
       "<p>395832 rows × 6 columns</p>\n",
       "</div>"
      ],
      "text/plain": [
       "         age  sex     wtyrago      finalwt   wtkg2   htm3\n",
       "0       82.0    2   76.363636   185.870345   70.91  157.0\n",
       "1       65.0    2   72.727273   126.603027   72.73  163.0\n",
       "3       61.0    1   73.636364   517.926275   73.64  170.0\n",
       "4       26.0    1   88.636364  1252.624630   88.64  185.0\n",
       "5       42.0    1  118.181818   415.161314  109.09  183.0\n",
       "...      ...  ...         ...          ...     ...    ...\n",
       "414504  23.0    1   84.090909    43.439320   88.64  191.0\n",
       "414505  49.0    2   70.454545     6.216538   72.73  170.0\n",
       "414506  45.0    1   86.363636    20.617560   90.91  178.0\n",
       "414507  52.0    2   89.090909    11.188138   89.09  157.0\n",
       "414508  38.0    1   75.000000    25.989792   75.00  178.0\n",
       "\n",
       "[395832 rows x 6 columns]"
      ]
     },
     "execution_count": 92,
     "metadata": {},
     "output_type": "execute_result"
    }
   ],
   "source": [
    "import brfss\n",
    "\n",
    "data = brfss.ReadBrfss(nrows=None)\n",
    "data = data.dropna(subset=['htm3', 'wtkg2'])   # drops missing values\n",
    "data"
   ]
  },
  {
   "cell_type": "code",
   "execution_count": 93,
   "metadata": {},
   "outputs": [
    {
     "data": {
      "text/html": [
       "<div>\n",
       "<style scoped>\n",
       "    .dataframe tbody tr th:only-of-type {\n",
       "        vertical-align: middle;\n",
       "    }\n",
       "\n",
       "    .dataframe tbody tr th {\n",
       "        vertical-align: top;\n",
       "    }\n",
       "\n",
       "    .dataframe thead th {\n",
       "        text-align: right;\n",
       "    }\n",
       "</style>\n",
       "<table border=\"1\" class=\"dataframe\">\n",
       "  <thead>\n",
       "    <tr style=\"text-align: right;\">\n",
       "      <th></th>\n",
       "      <th>age</th>\n",
       "      <th>sex</th>\n",
       "      <th>wtyrago</th>\n",
       "      <th>finalwt</th>\n",
       "      <th>wtkg2</th>\n",
       "      <th>htm3</th>\n",
       "      <th>log_wtkg2</th>\n",
       "    </tr>\n",
       "  </thead>\n",
       "  <tbody>\n",
       "    <tr>\n",
       "      <th>0</th>\n",
       "      <td>82.0</td>\n",
       "      <td>2</td>\n",
       "      <td>76.363636</td>\n",
       "      <td>185.870345</td>\n",
       "      <td>70.91</td>\n",
       "      <td>157.0</td>\n",
       "      <td>1.850707</td>\n",
       "    </tr>\n",
       "    <tr>\n",
       "      <th>1</th>\n",
       "      <td>65.0</td>\n",
       "      <td>2</td>\n",
       "      <td>72.727273</td>\n",
       "      <td>126.603027</td>\n",
       "      <td>72.73</td>\n",
       "      <td>163.0</td>\n",
       "      <td>1.861714</td>\n",
       "    </tr>\n",
       "    <tr>\n",
       "      <th>3</th>\n",
       "      <td>61.0</td>\n",
       "      <td>1</td>\n",
       "      <td>73.636364</td>\n",
       "      <td>517.926275</td>\n",
       "      <td>73.64</td>\n",
       "      <td>170.0</td>\n",
       "      <td>1.867114</td>\n",
       "    </tr>\n",
       "    <tr>\n",
       "      <th>4</th>\n",
       "      <td>26.0</td>\n",
       "      <td>1</td>\n",
       "      <td>88.636364</td>\n",
       "      <td>1252.624630</td>\n",
       "      <td>88.64</td>\n",
       "      <td>185.0</td>\n",
       "      <td>1.947630</td>\n",
       "    </tr>\n",
       "    <tr>\n",
       "      <th>5</th>\n",
       "      <td>42.0</td>\n",
       "      <td>1</td>\n",
       "      <td>118.181818</td>\n",
       "      <td>415.161314</td>\n",
       "      <td>109.09</td>\n",
       "      <td>183.0</td>\n",
       "      <td>2.037785</td>\n",
       "    </tr>\n",
       "    <tr>\n",
       "      <th>...</th>\n",
       "      <td>...</td>\n",
       "      <td>...</td>\n",
       "      <td>...</td>\n",
       "      <td>...</td>\n",
       "      <td>...</td>\n",
       "      <td>...</td>\n",
       "      <td>...</td>\n",
       "    </tr>\n",
       "    <tr>\n",
       "      <th>414504</th>\n",
       "      <td>23.0</td>\n",
       "      <td>1</td>\n",
       "      <td>84.090909</td>\n",
       "      <td>43.439320</td>\n",
       "      <td>88.64</td>\n",
       "      <td>191.0</td>\n",
       "      <td>1.947630</td>\n",
       "    </tr>\n",
       "    <tr>\n",
       "      <th>414505</th>\n",
       "      <td>49.0</td>\n",
       "      <td>2</td>\n",
       "      <td>70.454545</td>\n",
       "      <td>6.216538</td>\n",
       "      <td>72.73</td>\n",
       "      <td>170.0</td>\n",
       "      <td>1.861714</td>\n",
       "    </tr>\n",
       "    <tr>\n",
       "      <th>414506</th>\n",
       "      <td>45.0</td>\n",
       "      <td>1</td>\n",
       "      <td>86.363636</td>\n",
       "      <td>20.617560</td>\n",
       "      <td>90.91</td>\n",
       "      <td>178.0</td>\n",
       "      <td>1.958612</td>\n",
       "    </tr>\n",
       "    <tr>\n",
       "      <th>414507</th>\n",
       "      <td>52.0</td>\n",
       "      <td>2</td>\n",
       "      <td>89.090909</td>\n",
       "      <td>11.188138</td>\n",
       "      <td>89.09</td>\n",
       "      <td>157.0</td>\n",
       "      <td>1.949829</td>\n",
       "    </tr>\n",
       "    <tr>\n",
       "      <th>414508</th>\n",
       "      <td>38.0</td>\n",
       "      <td>1</td>\n",
       "      <td>75.000000</td>\n",
       "      <td>25.989792</td>\n",
       "      <td>75.00</td>\n",
       "      <td>178.0</td>\n",
       "      <td>1.875061</td>\n",
       "    </tr>\n",
       "  </tbody>\n",
       "</table>\n",
       "<p>395832 rows × 7 columns</p>\n",
       "</div>"
      ],
      "text/plain": [
       "         age  sex     wtyrago      finalwt   wtkg2   htm3  log_wtkg2\n",
       "0       82.0    2   76.363636   185.870345   70.91  157.0   1.850707\n",
       "1       65.0    2   72.727273   126.603027   72.73  163.0   1.861714\n",
       "3       61.0    1   73.636364   517.926275   73.64  170.0   1.867114\n",
       "4       26.0    1   88.636364  1252.624630   88.64  185.0   1.947630\n",
       "5       42.0    1  118.181818   415.161314  109.09  183.0   2.037785\n",
       "...      ...  ...         ...          ...     ...    ...        ...\n",
       "414504  23.0    1   84.090909    43.439320   88.64  191.0   1.947630\n",
       "414505  49.0    2   70.454545     6.216538   72.73  170.0   1.861714\n",
       "414506  45.0    1   86.363636    20.617560   90.91  178.0   1.958612\n",
       "414507  52.0    2   89.090909    11.188138   89.09  157.0   1.949829\n",
       "414508  38.0    1   75.000000    25.989792   75.00  178.0   1.875061\n",
       "\n",
       "[395832 rows x 7 columns]"
      ]
     },
     "execution_count": 93,
     "metadata": {},
     "output_type": "execute_result"
    }
   ],
   "source": [
    "data['log_wtkg2'] = np.log10(data.wtkg2)   # log weights\n",
    "data"
   ]
  },
  {
   "cell_type": "code",
   "execution_count": 106,
   "metadata": {},
   "outputs": [
    {
     "data": {
      "text/plain": [
       "(0.9930804163917814, 0.005281454169417991)"
      ]
     },
     "execution_count": 106,
     "metadata": {},
     "output_type": "execute_result"
    }
   ],
   "source": [
    "# least squares for height vs log10 of weights\n",
    "intercept, slope = LeastSquares(data.htm3, data.log_wtkg2)\n",
    "intercept, slope"
   ]
  },
  {
   "cell_type": "code",
   "execution_count": 107,
   "metadata": {},
   "outputs": [
    {
     "data": {
      "image/png": "[encoded data removed]",
      "text/plain": [
       "<Figure size 432x288 with 1 Axes>"
      ]
     },
     "metadata": {
      "needs_background": "light"
     },
     "output_type": "display_data"
    }
   ],
   "source": [
    "# Scatter plot\n",
    "fit_xs, fit_ys = FitLine(data.htm3, intercept, slope)  #fit line\n",
    "\n",
    "thinkplot.Scatter(data.htm3, data.log_wtkg2, color='blue', alpha=0.1, s=10)\n",
    "thinkplot.Plot(fit_xs, fit_ys, color='red', linewidth=2)\n",
    "thinkplot.Config(xlabel=\"Height (cm)\",\n",
    "                 ylabel='Log 10 of weight (kg)',\n",
    "                 legend=False)"
   ]
  },
  {
   "cell_type": "markdown",
   "metadata": {},
   "source": [
    "**Scatter plot with Log transformation of weights**"
   ]
  },
  {
   "cell_type": "code",
   "execution_count": 108,
   "metadata": {},
   "outputs": [
    {
     "data": {
      "image/png": "[encoded data removed]",
      "text/plain": [
       "<Figure size 432x288 with 1 Axes>"
      ]
     },
     "metadata": {
      "needs_background": "light"
     },
     "output_type": "display_data"
    }
   ],
   "source": [
    "# Scatter plot\n",
    "fit_xs, fit_ys = FitLine(data.htm3, intercept, slope)  #fit line\n",
    "\n",
    "thinkplot.Scatter(data.htm3, data.wtkg2, color='blue', alpha=0.1, s=10)\n",
    "thinkplot.Plot(fit_xs, 10**fit_ys, color='red', linewidth=2)\n",
    "thinkplot.Config(xlabel=\"Height (cm)\",\n",
    "                 ylabel='Weight (kg)',\n",
    "                 legend=False)"
   ]
  },
  {
   "cell_type": "markdown",
   "metadata": {},
   "source": [
    "**Scatter plot with Inverse transformation of weights**"
   ]
  },
  {
   "cell_type": "markdown",
   "metadata": {},
   "source": [
    "Plot the percentiles of the residuals versus the average hieght in each group."
   ]
  },
  {
   "cell_type": "code",
   "execution_count": 114,
   "metadata": {},
   "outputs": [],
   "source": [
    "residuals = Residuals(data.htm3, data.log_wtkg2, intercept, slope)\n",
    "data['residual'] = residuals\n",
    "\n",
    "# array of bins from 130 to 210 with increments of 5\n",
    "bins = np.arange(130, 210, 5)\n",
    "\n",
    "# index of the bin\n",
    "indices = np.digitize(data.htm3, bins)\n",
    "\n",
    "# grouping them by indices\n",
    "groups = data.groupby(indices)"
   ]
  },
  {
   "cell_type": "code",
   "execution_count": 113,
   "metadata": {},
   "outputs": [
    {
     "name": "stdout",
     "output_type": "stream",
     "text": [
      "0 210\n",
      "1 95\n",
      "2 228\n",
      "3 477\n",
      "4 2162\n",
      "5 18759\n",
      "6 45761\n",
      "7 70610\n",
      "8 72138\n",
      "9 61725\n",
      "10 49938\n",
      "11 43555\n",
      "12 20077\n",
      "13 7784\n",
      "14 1777\n",
      "15 405\n",
      "16 131\n"
     ]
    }
   ],
   "source": [
    "for i, group in groups:\n",
    "    print(i, len(group))"
   ]
  },
  {
   "cell_type": "code",
   "execution_count": 119,
   "metadata": {},
   "outputs": [],
   "source": [
    "# caluclating mean and cdf for each group using thinkstats2.\n",
    "height_mean = [group.htm3.mean() for i, group in groups][1:-1]\n",
    "residual_cdfs = [thinkstats2.Cdf(group.residual) for i, group in groups][1:-1]"
   ]
  },
  {
   "cell_type": "code",
   "execution_count": 120,
   "metadata": {},
   "outputs": [
    {
     "data": {
      "image/png": "[encoded data removed]",
      "text/plain": [
       "<Figure size 432x288 with 1 Axes>"
      ]
     },
     "metadata": {
      "needs_background": "light"
     },
     "output_type": "display_data"
    }
   ],
   "source": [
    "# plotting percentiles\n",
    "thinkplot.PrePlot(3)\n",
    "# calculating percentile for each group\n",
    "for percent in [75, 50, 25]:\n",
    "    y = [cdf.Percentile(percent) for cdf in cdfs]\n",
    "    label = '%dth' % percent\n",
    "    thinkplot.Plot(height_mean, y, label=label)\n",
    "    \n",
    "thinkplot.Config(xlabel='Height (cm)', \n",
    "                 ylabel='Residual weight (kg)', \n",
    "                 xlim=[130, 210], legend=True)"
   ]
  },
  {
   "cell_type": "markdown",
   "metadata": {},
   "source": [
    "The median seems nearly zero, so if we know the height in cm then we can guess the weight about 50% of the time.\n",
    "All lines looks parallel showing that the variance of the residuals are same for all. But lines have some curvature, showing that the relationship is non-linear."
   ]
  },
  {
   "cell_type": "code",
   "execution_count": 134,
   "metadata": {},
   "outputs": [
    {
     "name": "stdout",
     "output_type": "stream",
     "text": [
      "Pearsons correlation: 0.532\n",
      "Pearsons p^2: 0.283\n",
      "r^2: 0.283\n"
     ]
    }
   ],
   "source": [
    "# Pearson Correlation\n",
    "corr, _ = scipy.stats.pearsonr(data.htm3, data.log_wtkg2)\n",
    "print('Pearsons correlation: %.3f' % corr)\n",
    "print('Pearsons p^2: %.3f' % corr**2)\n",
    "# Compute coefficient of determination.\n",
    "\n",
    "r2 = CoefDetermination(data.log_wtkg2, residuals)\n",
    "print('r^2: %.3f' % r2)"
   ]
  },
  {
   "cell_type": "code",
   "execution_count": 131,
   "metadata": {},
   "outputs": [
    {
     "data": {
      "text/plain": [
       "6.161737786669619e-15"
      ]
     },
     "execution_count": 131,
     "metadata": {},
     "output_type": "execute_result"
    }
   ],
   "source": [
    "corr**2 - r2"
   ]
  },
  {
   "cell_type": "markdown",
   "metadata": {},
   "source": [
    "$R^2 = \\rho^2$."
   ]
  },
  {
   "cell_type": "markdown",
   "metadata": {},
   "source": [
    "RMSE also Standard deviation of residuals shows the goodness of fit."
   ]
  },
  {
   "cell_type": "code",
   "execution_count": 139,
   "metadata": {},
   "outputs": [
    {
     "name": "stdout",
     "output_type": "stream",
     "text": [
      "RMSE without the use of Heights: 0.103\n"
     ]
    }
   ],
   "source": [
    "# RMSE without the heights\n",
    "std_ys = thinkstats2.Std(data.log_wtkg2)\n",
    "print('RMSE without the use of Heights: %.3f' % std_ys)"
   ]
  },
  {
   "cell_type": "code",
   "execution_count": 140,
   "metadata": {},
   "outputs": [
    {
     "name": "stdout",
     "output_type": "stream",
     "text": [
      "RMSE with the height: 0.087\n"
     ]
    }
   ],
   "source": [
    "# RMSE with the heights\n",
    "std_res = thinkstats2.Std(residuals)\n",
    "print('RMSE with the height: %.3f' % std_res)"
   ]
  },
  {
   "cell_type": "code",
   "execution_count": 142,
   "metadata": {},
   "outputs": [
    {
     "data": {
      "text/plain": [
       "0.1530849765879294"
      ]
     },
     "execution_count": 142,
     "metadata": {},
     "output_type": "execute_result"
    }
   ],
   "source": [
    "1 - std_res / std_ys"
   ]
  },
  {
   "cell_type": "markdown",
   "metadata": {},
   "source": [
    "If we use height to guess the log of weight, the RMSE is 0.087. But if don't use height than RMSE is 0.103. There is only 15.3 % difference between the two."
   ]
  },
  {
   "cell_type": "code",
   "execution_count": 152,
   "metadata": {},
   "outputs": [],
   "source": [
    "# creates a random subset sample from the dataframe. \n",
    "def SampleRows(df, nrows, replace=False):\n",
    "    \"\"\"Choose a sample of rows from a DataFrame.\n",
    "\n",
    "    df: DataFrame\n",
    "    nrows: number of rows\n",
    "    replace: whether to sample with replacement\n",
    "\n",
    "    returns: DataDf\n",
    "    \"\"\"\n",
    "    indices = np.random.choice(df.index, nrows, replace=replace)\n",
    "    sample = df.loc[indices]\n",
    "    return sample\n",
    "\n",
    "def ResampleRows(df):\n",
    "    \n",
    "    return SampleRows(df, len(df), replace=True)\n",
    "\n",
    "\n",
    "# resampling with weights\n",
    "def ResampleRowsWeighted(df, column):\n",
    "    weights = df[column]\n",
    "    cdf = thinkstats2.Cdf(dict(weights))\n",
    "    indices = cdf.Sample(len(weights))\n",
    "    sample = df.loc[indices]\n",
    "    return sample\n",
    "\n",
    "def Summarize(estimates, actual=None):\n",
    "    mean = Mean(estimates)  # calculates mean\n",
    "    stderr = Std(estimates, mu=actual)   # calculates Std\n",
    "    cdf = thinkstats2.Cdf(estimates)   # creates a distribution\n",
    "    ci = cdf.ConfidenceInterval(90)    # calculates confidence interval\n",
    "    print('mean, SE, CI', mean, stderr, ci)"
   ]
  },
  {
   "cell_type": "code",
   "execution_count": 153,
   "metadata": {},
   "outputs": [
    {
     "name": "stdout",
     "output_type": "stream",
     "text": [
      "mean, SE, CI 168.9726980132986 2.842170943040401e-14 (168.97269801329858, 168.97269801329858)\n"
     ]
    }
   ],
   "source": [
    "# unweighted\n",
    "unweighted_df = ResampleRows(data)   # calls the ResampleRows function\n",
    "mean_unweighted = unweighted_df.htm3.mean()\n",
    "estimates_unweighted = [mean_unweighted for _ in range(100)]\n",
    "Summarize(estimates_unweighted)"
   ]
  },
  {
   "cell_type": "code",
   "execution_count": 154,
   "metadata": {},
   "outputs": [
    {
     "name": "stdout",
     "output_type": "stream",
     "text": [
      "mean, SE, CI 170.5113861436164 8.526512829121202e-14 (170.51138614361648, 170.51138614361648)\n"
     ]
    }
   ],
   "source": [
    "# weighted\n",
    "weighted_df = ResampleRowsWeighted(data, 'finalwt')    # calls ResampleRowsWeighted with weight column \"finalwt\"\n",
    "mean_weighted = weighted_df.htm3.mean()\n",
    "estimates_weighted = [mean_weighted for _ in range(100)]\n",
    "Summarize(estimates_weighted)"
   ]
  },
  {
   "cell_type": "markdown",
   "metadata": {},
   "source": [
    "**The difference in estimates means with and without weighting is 1.538 cm. The difference is much larger than a sampling error 5.684341886080802e-14 which means the difference is not due to chance.**"
   ]
  }
 ],
 "metadata": {
  "kernelspec": {
   "display_name": "Python 3",
   "language": "python",
   "name": "python3"
  },
  "language_info": {
   "codemirror_mode": {
    "name": "ipython",
    "version": 3
   },
   "file_extension": ".py",
   "mimetype": "text/x-python",
   "name": "python",
   "nbconvert_exporter": "python",
   "pygments_lexer": "ipython3",
   "version": "3.8.3"
  }
 },
 "nbformat": 4,
 "nbformat_minor": 1
}
