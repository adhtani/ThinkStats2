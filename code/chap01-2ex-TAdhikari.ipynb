{
 "cells": [
  {
   "cell_type": "markdown",
   "metadata": {},
   "source": [
    "## Exercise 1-2\n",
    "\n",
    "### Taniya Adhikari\n",
    "#### DSC530"
   ]
  },
  {
   "cell_type": "markdown",
   "metadata": {},
   "source": [
    "Importing all the necessary libraries"
   ]
  },
  {
   "cell_type": "code",
   "execution_count": 11,
   "metadata": {},
   "outputs": [],
   "source": [
    "from __future__ import print_function, division\n",
    "\n",
    "import sys\n",
    "import numpy as np\n",
    "import nsfg\n"
   ]
  },
  {
   "cell_type": "code",
   "execution_count": 19,
   "metadata": {},
   "outputs": [
    {
     "name": "stdout",
     "output_type": "stream",
     "text": [
      "0     2610\n",
      "1     1267\n",
      "2     1432\n",
      "3     1110\n",
      "4      611\n",
      "5      305\n",
      "6      150\n",
      "7       80\n",
      "8       40\n",
      "9       21\n",
      "10       9\n",
      "11       3\n",
      "12       2\n",
      "14       2\n",
      "19       1\n",
      "Name: pregnum, dtype: int64\n",
      "Total Pregnancy number is 7643\n"
     ]
    }
   ],
   "source": [
    "## import 2002FemResp.dat.gz from nsfg.py\n",
    "\n",
    "resp = nsfg.ReadFemResp()\n",
    "print(resp.pregnum.value_counts().sort_index())\n",
    "\n",
    "total = sum(resp.pregnum.value_counts())\n",
    "print(\"Total Pregnancy number is {}\".format(total))"
   ]
  },
  {
   "cell_type": "markdown",
   "metadata": {},
   "source": [
    "Results in the following: [codebook](https://www.icpsr.umich.edu/nsfg6/Controller?displayPage=labelDetails&fileCode=FEM&section=R&subSec=7869&srtLabel=606835)"
   ]
  },
  {
   "cell_type": "code",
   "execution_count": 21,
   "metadata": {},
   "outputs": [],
   "source": [
    "preg = nsfg.ReadFemPreg()\n",
    "preg_map = nsfg.MakePregMap(preg)"
   ]
  },
  {
   "cell_type": "markdown",
   "metadata": {},
   "source": [
    "**Used nsfg.MakePregMap to make a disctionary from nsfg.py**"
   ]
  },
  {
   "cell_type": "markdown",
   "metadata": {},
   "source": [
    "Below code cross validates the resp data to preg dataset for he number of pregnancy to match the number of records for each respondent.\n",
    "  \n",
    "If the length of indicies is not equal to pregnum it will give an output which case ID has an error."
   ]
  },
  {
   "cell_type": "code",
   "execution_count": 23,
   "metadata": {},
   "outputs": [],
   "source": [
    "for index, pregnum in resp.pregnum.items():\n",
    "    caseid = resp.caseid[index]\n",
    "    indices = preg_map[caseid]\n",
    "    # check that pregnum from the respondent file equals\n",
    "    # the number of records in the pregnancy file\n",
    "    if len(indices) != pregnum:\n",
    "        print(caseid, len(indices), pregnum)\n"
   ]
  }
 ],
 "metadata": {
  "kernelspec": {
   "display_name": "Python 3",
   "language": "python",
   "name": "python3"
  },
  "language_info": {
   "codemirror_mode": {
    "name": "ipython",
    "version": 3
   },
   "file_extension": ".py",
   "mimetype": "text/x-python",
   "name": "python",
   "nbconvert_exporter": "python",
   "pygments_lexer": "ipython3",
   "version": "3.8.3"
  }
 },
 "nbformat": 4,
 "nbformat_minor": 4
}
