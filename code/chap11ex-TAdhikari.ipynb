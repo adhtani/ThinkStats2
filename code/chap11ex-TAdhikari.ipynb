{
 "cells": [
  {
   "cell_type": "markdown",
   "metadata": {},
   "source": [
    "# Exercise 11-1, 11-3 & 11-4\n",
    "\n",
    "### DSC530\n",
    "#### Taniya Adhikari\n",
    "##### 11/05/2020\n"
   ]
  },
  {
   "cell_type": "code",
   "execution_count": 508,
   "metadata": {},
   "outputs": [],
   "source": [
    "from __future__ import print_function, division\n",
    "\n",
    "%matplotlib inline\n",
    "\n",
    "import numpy as np\n",
    "import pandas as pd\n",
    "\n",
    "import random\n",
    "\n",
    "import thinkstats2\n",
    "import thinkplot\n",
    "import statsmodels.formula.api as smf"
   ]
  },
  {
   "cell_type": "markdown",
   "metadata": {
    "collapsed": true
   },
   "source": [
    "## Exercise 11-1"
   ]
  },
  {
   "cell_type": "markdown",
   "metadata": {
    "collapsed": true
   },
   "source": [
    "Suppose one of your co-workers is expecting a baby and you are participating in an office pool to predict the date of birth. Assuming that bets are placed during the 30th week of pregnancy, what variables could you use to make the best prediction? You should limit yourself to variables that are known before the birth, and likely to be available to the people in the pool."
   ]
  },
  {
   "cell_type": "code",
   "execution_count": 371,
   "metadata": {},
   "outputs": [],
   "source": [
    "import first\n",
    "\n",
    "live, firsts, others = first.MakeFrames()\n",
    "live = live[live.prglngth>30]"
   ]
  },
  {
   "cell_type": "markdown",
   "metadata": {},
   "source": [
    "To choose the significant variables, I decided to run the functions GoMining for each variable and choose variables in order by choosing highest significant R-values for variables before pregnancy to lowest and re-running the MiningReport iteratively to narrow the list down. "
   ]
  },
  {
   "cell_type": "code",
   "execution_count": 466,
   "metadata": {},
   "outputs": [],
   "source": [
    "# searches variable that predict pregnancy lengths.\n",
    "# returns: list of (rsquared, variable name) pairs\n",
    "def GoMining(df):\n",
    "    \n",
    "    # list of variables\n",
    "    variables = []\n",
    "    for name in df.columns:\n",
    "        try:\n",
    "            if df[name].var() < 1e-7:\n",
    "                continue\n",
    "\n",
    "            # formula without any explanatory variable\n",
    "            formula = 'prglngth ~ +' + name\n",
    "            \n",
    "            model = smf.ols(formula, data=df)\n",
    "            if model.nobs < len(df)/2:\n",
    "                continue\n",
    "\n",
    "            results = model.fit()\n",
    "        except (ValueError, TypeError, patsy.PatsyError):\n",
    "            continue\n",
    "        \n",
    "        variables.append((results.rsquared, name))\n",
    "\n",
    "    return variables"
   ]
  },
  {
   "cell_type": "code",
   "execution_count": 467,
   "metadata": {},
   "outputs": [],
   "source": [
    "variables = GoMining(live)"
   ]
  },
  {
   "cell_type": "code",
   "execution_count": 468,
   "metadata": {},
   "outputs": [],
   "source": [
    "# fetches description of each vvariable names and creates a dictionary.\n",
    "def ReadVariables():\n",
    "\n",
    "    vars1 = thinkstats2.ReadStataDct('2002FemPreg.dct').variables\n",
    "    vars2 = thinkstats2.ReadStataDct('2002FemResp.dct').variables\n",
    "\n",
    "    all_vars = vars1.append(vars2)\n",
    "    all_vars.index = all_vars.name\n",
    "    return all_vars"
   ]
  },
  {
   "cell_type": "code",
   "execution_count": 469,
   "metadata": {},
   "outputs": [],
   "source": [
    "# Prints variables with R-squared between 0.1 to 1.0.\n",
    "def MiningReport1(variables, n=30):\n",
    "    \n",
    "    all_vars = ReadVariables()  # calls function for description of variables\n",
    "\n",
    "    variables.sort(reverse=True)\n",
    "    for r2, name in variables[:n]:\n",
    "        key = re.sub('_r$', '', name)\n",
    "        try:\n",
    "            desc = all_vars.loc[key].desc\n",
    "            if isinstance(desc, pd.Series):\n",
    "                desc = desc[0]\n",
    "            if 0.1 <= r2 <= 1:\n",
    "                print(name + ': {}     '.format(r2) + desc)\n",
    "        except (KeyError, IndexError):\n",
    "            print(name + ': {}'.format(r2))"
   ]
  },
  {
   "cell_type": "code",
   "execution_count": 470,
   "metadata": {},
   "outputs": [
    {
     "name": "stdout",
     "output_type": "stream",
     "text": [
      "prglngth: 1.0     DURATION OF COMPLETED PREGNANCY IN WEEKS\n",
      "wksgest: 0.8062434116139248     GESTATIONAL LENGTH OF COMPLETED PREGNANCY (IN WEEKS)\n",
      "totalwgt_lb: 0.12445743148120225\n",
      "birthwgt_lb: 0.11977307804917248     BD-3 BIRTHWEIGHT IN POUNDS - 1ST BABY FROM THIS PREGNANCY\n",
      "lbw1: 0.10372542204583246     LOW BIRTHWEIGHT - BABY 1\n"
     ]
    }
   ],
   "source": [
    "MiningReport1(variables)"
   ]
  },
  {
   "cell_type": "markdown",
   "metadata": {},
   "source": [
    "**Looking at the list above, these variables do have high R-squared but are factors after pregnancy or the same as pregnancy length, so they are un-usable variables**"
   ]
  },
  {
   "cell_type": "code",
   "execution_count": 471,
   "metadata": {},
   "outputs": [],
   "source": [
    "# Prints variables with R-squared below 0.005 but above 0.001.\n",
    "def MiningReport2(variables, n=30):\n",
    "    \n",
    "    all_vars = ReadVariables()  # calls function for description of variables\n",
    "\n",
    "    variables.sort(reverse=True)\n",
    "    for r2, name in variables[:n]:\n",
    "        key = re.sub('_r$', '', name)\n",
    "        try:\n",
    "            desc = all_vars.loc[key].desc\n",
    "            if isinstance(desc, pd.Series):\n",
    "                desc = desc[0]\n",
    "            if 0.005 <= r2 <= 0.1:\n",
    "                print(name + ': {}     '.format(r2) + desc)\n",
    "        except (KeyError, IndexError):\n",
    "            if 0.005 <= r2 <= 0.1:\n",
    "                print(name + ': {}'.format(r2))\n",
    "            else:\n",
    "                None"
   ]
  },
  {
   "cell_type": "code",
   "execution_count": 472,
   "metadata": {},
   "outputs": [
    {
     "name": "stdout",
     "output_type": "stream",
     "text": [
      "mosgest: 0.09562431989592235     GESTATIONAL LENGTH OF COMPLETED PREGNANCY (IN MONTHS)\n",
      "prglngth_i: 0.022053775796472053     PRGLNGTH IMPUTATION FLAG\n"
     ]
    }
   ],
   "source": [
    "MiningReport2(variables)"
   ]
  },
  {
   "cell_type": "markdown",
   "metadata": {},
   "source": [
    "**Above list are also unusable variables for same reasons listed above**"
   ]
  },
  {
   "cell_type": "code",
   "execution_count": 473,
   "metadata": {},
   "outputs": [],
   "source": [
    "# Prints variables with R-squared below 0.0005 but above 0.005.\n",
    "def MiningReport3(variables, n=30):\n",
    "    \n",
    "    all_vars = ReadVariables()  # calls function for description of variables\n",
    "\n",
    "    variables.sort(reverse=True)\n",
    "    for r2, name in variables[:n]:\n",
    "        key = re.sub('_r$', '', name)\n",
    "        try:\n",
    "            desc = all_vars.loc[key].desc\n",
    "            if isinstance(desc, pd.Series):\n",
    "                desc = desc[0]\n",
    "            if 0.001 <= r2 <= 0.005:\n",
    "                print(name + ': {}     '.format(r2) + desc)\n",
    "        except (KeyError, IndexError):\n",
    "            if 0.0005 <= r2 < 0.005:\n",
    "                print(name + ': {}'.format(r2))\n",
    "            else:\n",
    "                None\n"
   ]
  },
  {
   "cell_type": "code",
   "execution_count": 474,
   "metadata": {},
   "outputs": [
    {
     "name": "stdout",
     "output_type": "stream",
     "text": [
      "nbrnaliv: 0.004577565785538473     BC-2 NUMBER OF BABIES BORN ALIVE FROM THIS PREGNANCY\n",
      "anynurse: 0.002452024883713211     BH-1 WHETHER R BREASTFED THIS CHILD AT ALL - 1ST FROM THIS PREG\n",
      "bfeedwks: 0.002369183944671338     DURATION OF BREASTFEEDING IN WEEKS\n",
      "pregend1: 0.002249389433796045     BC-1 HOW PREGNANCY ENDED - 1ST MENTION\n",
      "cmlastlb: 0.0020431424422018285     CM FOR R'S MOST RECENT LIVE BIRTH\n",
      "fmarcon5_i: 0.001968159324254537     FMARCON5 IMPUTATION FLAG\n",
      "evuseint: 0.0018917527758633979     EG-1 USE ANY METHOD IN PREGNANCY INTERVAL?\n",
      "gestasun_m: 0.001657131955017932     BC-5 GESTATIONAL LENGTH OF PREGNANCY IN MONTHS\n",
      "sest: 0.0013223681981657798     SCRAMBLED VERSION OF THE STRATUM\n",
      "matchfound: 0.001309107377125751     CHECK ON WHETHER CHILD MATCHES BIO CHILD IN HH ROSTER - 1ST\n",
      "cmlstprg: 0.0012828619646414463     CM FOR R'S MOST RECENT COMPLETED PREGNANCY\n",
      "birthord: 0.001237273673660888     BIRTH ORDER\n",
      "frsteatd_p: 0.0011558077327729066     BH-3 UNITS (MOS/WKS/DAYS) FOR FRSTEATD_N - 1ST FROM THIS PREG\n",
      "wantbold: 0.0011362202442938285     EG-6 RIGHT BEF PREG, WANT TO HAVE BABY AT ANY TIME IN FUTURE?\n",
      "poverty: 0.0011234153756987109     POVERTY LEVEL INCOME\n",
      "gestasun_w: 0.0010513799087212838     BC-5 GESTATIONAL LENGTH OF PREGNANCY IN WEEKS\n"
     ]
    }
   ],
   "source": [
    "MiningReport3(variables)"
   ]
  },
  {
   "cell_type": "markdown",
   "metadata": {},
   "source": [
    "Looking at the above list Here are the observations:  \n",
    "nbrnaliv: is usable variable with highest R-squared = 0.004577565785538473.  \n",
    "  \n",
    "Running function MiningReport and GoMining again with 1st explanatory variables nbrnaliv. nbrnaliv is a variable of number of babies born alive in this pregnancy, we'll take all the values above 1 for this model. \n"
   ]
  },
  {
   "cell_type": "code",
   "execution_count": 475,
   "metadata": {},
   "outputs": [],
   "source": [
    "def GoMining1(df):\n",
    "    \n",
    "    # list of variables\n",
    "    variables1 = []\n",
    "    for name in df.columns:\n",
    "        try:\n",
    "            if df[name].var() < 1e-7:\n",
    "                continue\n",
    "\n",
    "            # formula without any explanatory variable\n",
    "            formula = 'prglngth ~ nbrnaliv>1 +' + name\n",
    "            \n",
    "            model = smf.ols(formula, data=df)\n",
    "            if model.nobs < len(df)/2:\n",
    "                continue\n",
    "\n",
    "            results = model.fit()\n",
    "        except (ValueError, TypeError, patsy.PatsyError):\n",
    "            continue\n",
    "        \n",
    "        variables1.append((results.rsquared, name))\n",
    "\n",
    "    return variables1"
   ]
  },
  {
   "cell_type": "code",
   "execution_count": 480,
   "metadata": {},
   "outputs": [],
   "source": [
    "# Prints variables with R-squared  with 1 explanatory variable.\n",
    "def MiningReport4(variables, n=30):\n",
    "    \n",
    "    all_vars = ReadVariables()  # calls function for description of variables\n",
    "\n",
    "    variables.sort(reverse=True)\n",
    "    for r2, name in variables[:n]:\n",
    "        key = re.sub('_r$', '', name)\n",
    "        try:\n",
    "            desc = all_vars.loc[key].desc\n",
    "            if isinstance(desc, pd.Series):\n",
    "                desc = desc[0]\n",
    "            print(name + ': {}     '.format(r2) + desc)\n",
    "        except (KeyError, IndexError):\n",
    "            print(name + ': {}'.format(r2))"
   ]
  },
  {
   "cell_type": "code",
   "execution_count": 481,
   "metadata": {},
   "outputs": [],
   "source": [
    "variables1 = GoMining1(live)"
   ]
  },
  {
   "cell_type": "code",
   "execution_count": 482,
   "metadata": {},
   "outputs": [
    {
     "name": "stdout",
     "output_type": "stream",
     "text": [
      "prglngth: 1.0     DURATION OF COMPLETED PREGNANCY IN WEEKS\n",
      "wksgest: 0.8065254803450603     GESTATIONAL LENGTH OF COMPLETED PREGNANCY (IN WEEKS)\n",
      "totalwgt_lb: 0.12712542095891\n",
      "birthwgt_lb: 0.1226876300027917     BD-3 BIRTHWEIGHT IN POUNDS - 1ST BABY FROM THIS PREGNANCY\n",
      "lbw1: 0.10660760072636011     LOW BIRTHWEIGHT - BABY 1\n",
      "mosgest: 0.10335149052021764     GESTATIONAL LENGTH OF COMPLETED PREGNANCY (IN MONTHS)\n",
      "prglngth_i: 0.03144282961028477     PRGLNGTH IMPUTATION FLAG\n",
      "anynurse: 0.013555226239402196     BH-1 WHETHER R BREASTFED THIS CHILD AT ALL - 1ST FROM THIS PREG\n",
      "whentell: 0.012831472175839909     EG-20 WHEN DID R TELL FATHER OF PREG ABOUT PREGNANCY: DURING OR AFTER?\n",
      "frsteatd_p: 0.012723783625517737     BH-3 UNITS (MOS/WKS/DAYS) FOR FRSTEATD_N - 1ST FROM THIS PREG\n",
      "timokhp: 0.012434939471870021     EG-17 R BECAME PREG SOONER, RIGHT TIME, OR LATER THAN FATHER OF PREG WANTED\n",
      "matchfound: 0.012132592344732296     CHECK ON WHETHER CHILD MATCHES BIO CHILD IN HH ROSTER - 1ST\n",
      "frsteatd_n: 0.011995647434500989     BH-3 AGE (MOS/WKS/DAY) WHEN 1ST SUPPLEMENTED - 1ST FROM THIS PREG\n",
      "frsteatd: 0.011743406421808933     AGE (IN MOS) WHEN 1ST SUPPLEMENTED - 1ST FROM THIS PREG\n",
      "wthpart1: 0.011637455621141268     EG-12A RIGHT BEFORE PREG, WANT TO HAVE BABY WITH THAT PARTNER?\n",
      "tellfath: 0.011583326898047863     EG-19 DID R TELL FATHER OF PREG THAT SHE WAS PREGNANT\n",
      "cmlastlb: 0.01152822780177909     CM FOR R'S MOST RECENT LIVE BIRTH\n",
      "pregend1: 0.011257341496459405     BC-1 HOW PREGNANCY ENDED - 1ST MENTION\n",
      "fmarcon5_i: 0.011238117567396677     FMARCON5 IMPUTATION FLAG\n",
      "gestasun_m: 0.011185220109333205     BC-5 GESTATIONAL LENGTH OF PREGNANCY IN MONTHS\n",
      "sest: 0.010803832567917171     SCRAMBLED VERSION OF THE STRATUM\n",
      "cmlstprg: 0.010776805621655283     CM FOR R'S MOST RECENT COMPLETED PREGNANCY\n",
      "nbrnaliv: 0.010760024789846834     BC-2 NUMBER OF BABIES BORN ALIVE FROM THIS PREGNANCY\n",
      "gestasun_w: 0.010452198661960455     BC-5 GESTATIONAL LENGTH OF PREGNANCY IN WEEKS\n",
      "birthord: 0.010355239313483922     BIRTH ORDER\n",
      "poverty: 0.010346829255368895     POVERTY LEVEL INCOME\n",
      "cmintstr: 0.010210273093092082     CM FOR DATE OF BEGINNING OF PREGNANCY INTERVAL\n",
      "fmarout5_i: 0.01017380613478902     FMAROUT5 IMPUTATION FLAG\n",
      "rmarout6_i: 0.0101516050421262     RMAROUT6 IMPUTATION FLAG\n",
      "hispanic: 0.010114383569838958     HISPANIC ORIGIN\n"
     ]
    }
   ],
   "source": [
    "MiningReport4(variables1)"
   ]
  },
  {
   "cell_type": "markdown",
   "metadata": {},
   "source": [
    "Every variable seems like a variable after birth according to description. Except:  \n",
    "wthpart1: 0.005720791728371921     EG-12A RIGHT BEFORE PREG, WANT TO HAVE BABY WITH THAT PARTNER?\n",
    "birthord: 0.005574952040113268     BIRTH ORDER  \n",
    "poverty: 0.005543390447730112     POVERTY LEVEL INCOME    \n",
    "\n",
    "wthpart1 has lot of missing value. So I will skip that and move to birthord and poverty"
   ]
  },
  {
   "cell_type": "code",
   "execution_count": 483,
   "metadata": {},
   "outputs": [
    {
     "data": {
      "text/html": [
       "<table class=\"simpletable\">\n",
       "<caption>OLS Regression Results</caption>\n",
       "<tr>\n",
       "  <th>Dep. Variable:</th>        <td>prglngth</td>     <th>  R-squared:         </th> <td>   0.011</td> \n",
       "</tr>\n",
       "<tr>\n",
       "  <th>Model:</th>                   <td>OLS</td>       <th>  Adj. R-squared:    </th> <td>   0.011</td> \n",
       "</tr>\n",
       "<tr>\n",
       "  <th>Method:</th>             <td>Least Squares</td>  <th>  F-statistic:       </th> <td>   32.70</td> \n",
       "</tr>\n",
       "<tr>\n",
       "  <th>Date:</th>             <td>Mon, 09 Nov 2020</td> <th>  Prob (F-statistic):</th> <td>5.16e-21</td> \n",
       "</tr>\n",
       "<tr>\n",
       "  <th>Time:</th>                 <td>02:09:19</td>     <th>  Log-Likelihood:    </th> <td> -18250.</td> \n",
       "</tr>\n",
       "<tr>\n",
       "  <th>No. Observations:</th>      <td>  8884</td>      <th>  AIC:               </th> <td>3.651e+04</td>\n",
       "</tr>\n",
       "<tr>\n",
       "  <th>Df Residuals:</th>          <td>  8880</td>      <th>  BIC:               </th> <td>3.654e+04</td>\n",
       "</tr>\n",
       "<tr>\n",
       "  <th>Df Model:</th>              <td>     3</td>      <th>                     </th>     <td> </td>    \n",
       "</tr>\n",
       "<tr>\n",
       "  <th>Covariance Type:</th>      <td>nonrobust</td>    <th>                     </th>     <td> </td>    \n",
       "</tr>\n",
       "</table>\n",
       "<table class=\"simpletable\">\n",
       "<tr>\n",
       "            <td></td>               <th>coef</th>     <th>std err</th>      <th>t</th>      <th>P>|t|</th>  <th>[0.025</th>    <th>0.975]</th>  \n",
       "</tr>\n",
       "<tr>\n",
       "  <th>Intercept</th>             <td>   38.7833</td> <td>    0.038</td> <td> 1009.260</td> <td> 0.000</td> <td>   38.708</td> <td>   38.859</td>\n",
       "</tr>\n",
       "<tr>\n",
       "  <th>nbrnaliv > 1[T.True]</th>  <td>   -1.4804</td> <td>    0.165</td> <td>   -8.995</td> <td> 0.000</td> <td>   -1.803</td> <td>   -1.158</td>\n",
       "</tr>\n",
       "<tr>\n",
       "  <th>birthord == 1[T.True]</th> <td>    0.0926</td> <td>    0.041</td> <td>    2.284</td> <td> 0.022</td> <td>    0.013</td> <td>    0.172</td>\n",
       "</tr>\n",
       "<tr>\n",
       "  <th>poverty</th>               <td>    0.0003</td> <td>    0.000</td> <td>    2.506</td> <td> 0.012</td> <td>  7.6e-05</td> <td>    0.001</td>\n",
       "</tr>\n",
       "</table>\n",
       "<table class=\"simpletable\">\n",
       "<tr>\n",
       "  <th>Omnibus:</th>       <td>1585.005</td> <th>  Durbin-Watson:     </th> <td>   1.619</td>\n",
       "</tr>\n",
       "<tr>\n",
       "  <th>Prob(Omnibus):</th>  <td> 0.000</td>  <th>  Jarque-Bera (JB):  </th> <td>6131.395</td>\n",
       "</tr>\n",
       "<tr>\n",
       "  <th>Skew:</th>           <td>-0.851</td>  <th>  Prob(JB):          </th> <td>    0.00</td>\n",
       "</tr>\n",
       "<tr>\n",
       "  <th>Kurtosis:</th>       <td> 6.697</td>  <th>  Cond. No.          </th> <td>2.09e+03</td>\n",
       "</tr>\n",
       "</table><br/><br/>Warnings:<br/>[1] Standard Errors assume that the covariance matrix of the errors is correctly specified.<br/>[2] The condition number is large, 2.09e+03. This might indicate that there are<br/>strong multicollinearity or other numerical problems."
      ],
      "text/plain": [
       "<class 'statsmodels.iolib.summary.Summary'>\n",
       "\"\"\"\n",
       "                            OLS Regression Results                            \n",
       "==============================================================================\n",
       "Dep. Variable:               prglngth   R-squared:                       0.011\n",
       "Model:                            OLS   Adj. R-squared:                  0.011\n",
       "Method:                 Least Squares   F-statistic:                     32.70\n",
       "Date:                Mon, 09 Nov 2020   Prob (F-statistic):           5.16e-21\n",
       "Time:                        02:09:19   Log-Likelihood:                -18250.\n",
       "No. Observations:                8884   AIC:                         3.651e+04\n",
       "Df Residuals:                    8880   BIC:                         3.654e+04\n",
       "Df Model:                           3                                         \n",
       "Covariance Type:            nonrobust                                         \n",
       "=========================================================================================\n",
       "                            coef    std err          t      P>|t|      [0.025      0.975]\n",
       "-----------------------------------------------------------------------------------------\n",
       "Intercept                38.7833      0.038   1009.260      0.000      38.708      38.859\n",
       "nbrnaliv > 1[T.True]     -1.4804      0.165     -8.995      0.000      -1.803      -1.158\n",
       "birthord == 1[T.True]     0.0926      0.041      2.284      0.022       0.013       0.172\n",
       "poverty                   0.0003      0.000      2.506      0.012     7.6e-05       0.001\n",
       "==============================================================================\n",
       "Omnibus:                     1585.005   Durbin-Watson:                   1.619\n",
       "Prob(Omnibus):                  0.000   Jarque-Bera (JB):             6131.395\n",
       "Skew:                          -0.851   Prob(JB):                         0.00\n",
       "Kurtosis:                       6.697   Cond. No.                     2.09e+03\n",
       "==============================================================================\n",
       "\n",
       "Warnings:\n",
       "[1] Standard Errors assume that the covariance matrix of the errors is correctly specified.\n",
       "[2] The condition number is large, 2.09e+03. This might indicate that there are\n",
       "strong multicollinearity or other numerical problems.\n",
       "\"\"\""
      ]
     },
     "execution_count": 483,
     "metadata": {},
     "output_type": "execute_result"
    }
   ],
   "source": [
    "model1 = smf.ols('prglngth ~ nbrnaliv>1 + birthord==1 + poverty', data=live)\n",
    "results1 = model1.fit()\n",
    "results1.summary()"
   ]
  },
  {
   "cell_type": "markdown",
   "metadata": {},
   "source": [
    "These variable seems to be statistically significant with really low p-values but R-square is really low 0.011. It doesn't seem like it's going to help with the bet"
   ]
  },
  {
   "cell_type": "markdown",
   "metadata": {},
   "source": [
    "## Exercise 11-3"
   ]
  },
  {
   "cell_type": "markdown",
   "metadata": {},
   "source": [
    "**Exercise:** If the quantity you want to predict is a count, you can use Poisson regression, which is implemented in StatsModels with a function called `poisson`. It works the same way as `ols` and `logit`. As an exercise, let’s use it to predict how many children a woman has born; in the NSFG dataset, this variable is called `numbabes`.\n",
    "\n",
    "Suppose you meet a woman who is 35 years old, black, and a college graduate whose annual household income exceeds $75,000. How many children would you predict she has born?"
   ]
  },
  {
   "cell_type": "code",
   "execution_count": 499,
   "metadata": {},
   "outputs": [],
   "source": [
    "import nsfg\n",
    "import patsy\n",
    "\n",
    "resp = nsfg.ReadFemResp()\n",
    "resp.index = resp.caseid\n",
    "# joins the two data set and adds suffix r to the variable with same name\n",
    "join = live.join(resp, on='caseid', rsuffix='_r')\n",
    "\n",
    "# replaces null values to 100\n",
    "join.numbabes.replace([100], np.nan, inplace=True)"
   ]
  },
  {
   "cell_type": "code",
   "execution_count": 507,
   "metadata": {},
   "outputs": [
    {
     "name": "stdout",
     "output_type": "stream",
     "text": [
      "wage: JI-1A IN 2001 RECEIVED INCOME FROM WAGES/SALARIES\n",
      "unemp: JI-1G IN 2001 RECEIVED INCOME FROM UNEMPLOYMENT COMPENSATION\n",
      "totincr: TOTAL INCOME OF R'S FAMILY\n",
      "totinc: JI-3 TOTAL COMBINED FAMILY INCOME IN 2001\n",
      "totalwgt_lb\n",
      "toincwmy: JI-2 PREFER TO REPORT TOTAL INCOME PER WEEK/MONTH/YEAR\n",
      "ssi: JI-1F IN 2001 RECEIVED INCOME FROM SUPPLEMENTAL SECURITY\n",
      "socsec: JI-1C IN 2001 RECEIVED INCOME FROM SOCIAL SECURITY\n",
      "selfinc: JI-1B IN 2001 RECEIVED INCOME FROM SELF-EMPLOYMENT\n",
      "secu_r\n",
      "rscreenrace: R S RACE AS REPORTED IN SCREENER\n",
      "retire: JI-1E IN 2001 RECEIVED INCOME FROM RETIREMENT\n",
      "racehx7: CB-9 RACE OF 2ND HUSBAND - 2ND MENTION\n",
      "racehx6: CB-9 RACE OF 2ND HUSBAND - 1ST MENTION\n",
      "racehx4: CB-9 RACE OF 1ST HUSBAND - 4TH MENTION\n",
      "racehx3: CB-9 RACE OF 1ST HUSBAND - 3RD MENTION\n",
      "racehx2: CB-9 RACE OF 1ST HUSBAND - 2ND MENTION\n",
      "racehx16: CB-9 RACE OF 4TH HUSBAND - 1ST MENTION\n",
      "racehx11: CB-9 RACE OF 3RD HUSBAND - 1ST MENTION\n",
      "racehx1: CB-9 RACE OF 1ST HUSBAND - 1ST MENTION\n",
      "racecx2: CD-10 RACE OF 1ST FORMER COHABITING PARTNER - 2ND MENTION\n",
      "racecx1: CD-10 RACE OF 1ST FORMER COHABITING PARTNER - 1ST MENTION\n",
      "race_r: name\n",
      "race                  RACE\n",
      "race    RACE OF RESPONDENT\n",
      "race: name\n",
      "race                  RACE\n",
      "race    RACE OF RESPONDENT\n",
      "p1yraceb5: CI-14 RACE BEST DESCRIBES - 5TH REPORTED PARTNER IN LAST 12 MOS\n",
      "p1yraceb3: CI-14 RACE BEST DESCRIBES - 3RD REPORTED PARTNER IN LAST 12 MOS\n",
      "p1yraceb2: CI-14 RACE BEST DESCRIBES - 2ND REPORTED PARTNER IN LAST 12 MOS\n",
      "p1yraceb: CI-14 RACE BEST DESCRIBES - 1ST REPORTED PARTNER IN LAST 12 MOS\n",
      "p1yrace7: CI-13 RACE OF 2ND REPORTED PARTNER IN LAST 12 MOS - 2ND MENTION\n",
      "p1yrace66: CI-13 RACE OF 14TH REPORTED PARTNER IN LAST 12 MOS - 1ST MENTION\n",
      "p1yrace61: CI-13 RACE OF 13TH REPORTED PARTNER IN LAST 12 MOS - 1ST MENTION\n",
      "p1yrace6: CI-13 RACE OF 2ND REPORTED PARTNER IN LAST 12 MOS - 1ST MENTION\n",
      "p1yrace56: CI-13 RACE OF 12TH REPORTED PARTNER IN LAST 12 MOS - 1ST MENTION\n",
      "p1yrace51: CI-13 RACE OF 11TH REPORTED PARTNER IN LAST 12 MOS - 1ST MENTION\n",
      "p1yrace46: CI-13 RACE OF 10TH REPORTED PARTNER IN LAST 12 MOS - 1ST MENTION\n",
      "p1yrace41: CI-13 RACE OF 9TH REPORTED PARTNER IN LAST 12 MOS - 1ST MENTION\n",
      "p1yrace36: CI-13 RACE OF 8TH REPORTED PARTNER IN LAST 12 MOS - 1ST MENTION\n",
      "p1yrace31: CI-13 RACE OF 7TH REPORTED PARTNER IN LAST 12 MOS - 1ST MENTION\n",
      "p1yrace3: CI-13 RACE OF 1ST REPORTED PARTNER IN LAST 12 MOS - 3RD MENTION\n",
      "p1yrace22: CI-13 RACE OF 5TH REPORTED PARTNER IN LAST 12 MOS - 2ND MENTION\n",
      "p1yrace2: CI-13 RACE OF 1ST REPORTED PARTNER IN LAST 12 MOS - 2ND MENTION\n",
      "p1yrace16: CI-13 RACE OF 4TH REPORTED PARTNER IN LAST 12 MOS - 1ST MENTION\n",
      "p1yrace11: CI-13 RACE OF 3RD REPORTED PARTNER IN LAST 12 MOS - 1ST MENTION\n",
      "p1yrace1: CI-13 RACE OF 1ST REPORTED PARTNER IN LAST 12 MOS - 1ST MENTION\n",
      "othinc: JI-1K IN 2001 RECEIVED OTHER INCOME (EX: VA, ALIMONY, ETC)\n",
      "numrace: NUMBER OF RACES REPORTED\n",
      "hisprace_r: name\n",
      "hisprace                RACE AND HISPANIC ORIGIN\n",
      "hisprace    RACE & HISPANIC ORIGIN OF RESPONDENT\n",
      "hisprace: name\n",
      "hisprace                RACE AND HISPANIC ORIGIN\n",
      "hisprace    RACE & HISPANIC ORIGIN OF RESPONDENT\n",
      "fl_rrace: WHETHER RS RACE AT SCREENER DIFFERS FROM RACE AT I VIEW\n",
      "educat_r: name\n",
      "educat    EDUCATION (COMPLETED YEARS OF SCHOOLING)\n",
      "educat    EDUCATION (NUMBER OF YEARS OF SCHOOLING)\n",
      "educat: name\n",
      "educat    EDUCATION (COMPLETED YEARS OF SCHOOLING)\n",
      "educat    EDUCATION (NUMBER OF YEARS OF SCHOOLING)\n",
      "disabil: JI-1D IN 2001 RECEIVED INCOME FROM DISABILITY PENSION\n",
      "cprace2: CC-9 RACE OF CURRENT COHABITING PARTNER-2ND MENTION\n",
      "cprace1: CC-9 RACE OF CURRENT COHABITING PARTNER-1ST MENTION\n",
      "chosrace: BK-7 RACE OF CHILD R PREFERS TO ADOPT\n",
      "chldsupp: JI-1H IN 2001 RECEIVED INCOME FROM CHILD SUPPORT\n",
      "age_r\n"
     ]
    }
   ],
   "source": [
    "# following code finds the variable names with description. We need age, education, race and income\n",
    "\n",
    "all_vars = ReadVariables()  # calls function for description of variables\n",
    "variables_names = [] \n",
    "\n",
    "for name in join.columns:\n",
    "    try:\n",
    "        if join[name].var() < 1e-7:\n",
    "            continue\n",
    "            \n",
    "    except (ValueError, TypeError, patsy.PatsyError):\n",
    "        continue\n",
    "        \n",
    "    variables_names.append((name))\n",
    "\n",
    "variables_names.sort(reverse=True)\n",
    "for name in variables_names:\n",
    "    key = re.sub('_r$', '', name)\n",
    "    try:\n",
    "        desc = all_vars.loc[key].desc\n",
    "        \n",
    "        # check for series\n",
    "        if isinstance(desc, pd.Series):\n",
    "            \n",
    "            # converts to string\n",
    "            desc = desc.to_string()\n",
    "            if ' education ' in desc.lower():\n",
    "                print(name + ': ' + desc)\n",
    "            elif 'income ' in desc.lower():\n",
    "                print(name + ': ' + desc)\n",
    "            elif 'race' in name.lower():\n",
    "                print(name + ': ' + desc)\n",
    "            else:\n",
    "                None\n",
    "       \n",
    "        elif 'education ' in desc.lower():\n",
    "            print(name + ': ' + desc)       \n",
    "        elif 'income ' in desc.lower():\n",
    "                print(name + ': ' + desc)        \n",
    "        elif 'race' in name.lower():\n",
    "            print(name + ': ' + desc)\n",
    "        else:\n",
    "            None\n",
    "    \n",
    "    except (KeyError, IndexError):\n",
    "        print(name)\n"
   ]
  },
  {
   "cell_type": "code",
   "execution_count": 501,
   "metadata": {},
   "outputs": [
    {
     "name": "stdout",
     "output_type": "stream",
     "text": [
      "Optimization terminated successfully.\n",
      "         Current function value: 1.687055\n",
      "         Iterations 5\n"
     ]
    },
    {
     "data": {
      "text/html": [
       "<table class=\"simpletable\">\n",
       "<caption>Poisson Regression Results</caption>\n",
       "<tr>\n",
       "  <th>Dep. Variable:</th>       <td>numbabes</td>     <th>  No. Observations:  </th>   <td>  8884</td>  \n",
       "</tr>\n",
       "<tr>\n",
       "  <th>Model:</th>                <td>Poisson</td>     <th>  Df Residuals:      </th>   <td>  8878</td>  \n",
       "</tr>\n",
       "<tr>\n",
       "  <th>Method:</th>                 <td>MLE</td>       <th>  Df Model:          </th>   <td>     5</td>  \n",
       "</tr>\n",
       "<tr>\n",
       "  <th>Date:</th>            <td>Mon, 09 Nov 2020</td> <th>  Pseudo R-squ.:     </th>   <td>0.03109</td> \n",
       "</tr>\n",
       "<tr>\n",
       "  <th>Time:</th>                <td>02:23:09</td>     <th>  Log-Likelihood:    </th>  <td> -14988.</td> \n",
       "</tr>\n",
       "<tr>\n",
       "  <th>converged:</th>             <td>True</td>       <th>  LL-Null:           </th>  <td> -15469.</td> \n",
       "</tr>\n",
       "<tr>\n",
       "  <th>Covariance Type:</th>     <td>nonrobust</td>    <th>  LLR p-value:       </th> <td>1.106e-205</td>\n",
       "</tr>\n",
       "</table>\n",
       "<table class=\"simpletable\">\n",
       "<tr>\n",
       "        <td></td>          <th>coef</th>     <th>std err</th>      <th>z</th>      <th>P>|z|</th>  <th>[0.025</th>    <th>0.975]</th>  \n",
       "</tr>\n",
       "<tr>\n",
       "  <th>Intercept</th>    <td>    1.0842</td> <td>    0.045</td> <td>   23.995</td> <td> 0.000</td> <td>    0.996</td> <td>    1.173</td>\n",
       "</tr>\n",
       "<tr>\n",
       "  <th>C(race)[T.2]</th> <td>   -0.1398</td> <td>    0.015</td> <td>   -9.464</td> <td> 0.000</td> <td>   -0.169</td> <td>   -0.111</td>\n",
       "</tr>\n",
       "<tr>\n",
       "  <th>C(race)[T.3]</th> <td>   -0.0914</td> <td>    0.025</td> <td>   -3.717</td> <td> 0.000</td> <td>   -0.140</td> <td>   -0.043</td>\n",
       "</tr>\n",
       "<tr>\n",
       "  <th>age_r</th>        <td>    0.0208</td> <td>    0.001</td> <td>   20.474</td> <td> 0.000</td> <td>    0.019</td> <td>    0.023</td>\n",
       "</tr>\n",
       "<tr>\n",
       "  <th>totincr</th>      <td>   -0.0179</td> <td>    0.002</td> <td>   -9.442</td> <td> 0.000</td> <td>   -0.022</td> <td>   -0.014</td>\n",
       "</tr>\n",
       "<tr>\n",
       "  <th>educat</th>       <td>   -0.0443</td> <td>    0.003</td> <td>  -15.139</td> <td> 0.000</td> <td>   -0.050</td> <td>   -0.039</td>\n",
       "</tr>\n",
       "</table>"
      ],
      "text/plain": [
       "<class 'statsmodels.iolib.summary.Summary'>\n",
       "\"\"\"\n",
       "                          Poisson Regression Results                          \n",
       "==============================================================================\n",
       "Dep. Variable:               numbabes   No. Observations:                 8884\n",
       "Model:                        Poisson   Df Residuals:                     8878\n",
       "Method:                           MLE   Df Model:                            5\n",
       "Date:                Mon, 09 Nov 2020   Pseudo R-squ.:                 0.03109\n",
       "Time:                        02:23:09   Log-Likelihood:                -14988.\n",
       "converged:                       True   LL-Null:                       -15469.\n",
       "Covariance Type:            nonrobust   LLR p-value:                1.106e-205\n",
       "================================================================================\n",
       "                   coef    std err          z      P>|z|      [0.025      0.975]\n",
       "--------------------------------------------------------------------------------\n",
       "Intercept        1.0842      0.045     23.995      0.000       0.996       1.173\n",
       "C(race)[T.2]    -0.1398      0.015     -9.464      0.000      -0.169      -0.111\n",
       "C(race)[T.3]    -0.0914      0.025     -3.717      0.000      -0.140      -0.043\n",
       "age_r            0.0208      0.001     20.474      0.000       0.019       0.023\n",
       "totincr         -0.0179      0.002     -9.442      0.000      -0.022      -0.014\n",
       "educat          -0.0443      0.003    -15.139      0.000      -0.050      -0.039\n",
       "================================================================================\n",
       "\"\"\""
      ]
     },
     "execution_count": 501,
     "metadata": {},
     "output_type": "execute_result"
    }
   ],
   "source": [
    "# poisson regression\n",
    "# totincr: TOTAL INCOME OF R'S FAMILY\n",
    "# educat: name\n",
    "# educat    EDUCATION (COMPLETED YEARS OF SCHOOLING)\n",
    "# age_r respondant's age\n",
    "# race    RACE OF RESPONDENT\n",
    "\n",
    "formula_poisson='numbabes ~ age_r + C(race) + totincr + educat'\n",
    "model2 = smf.poisson(formula_poisson, data=join)\n",
    "results2 = model2.fit()\n",
    "results2.summary() "
   ]
  },
  {
   "cell_type": "markdown",
   "metadata": {},
   "source": [
    "Now we can predict the number of children for a woman who is 35 years old, black, and a college\n",
    "graduate whose annual household income exceeds $75,000"
   ]
  },
  {
   "cell_type": "code",
   "execution_count": 502,
   "metadata": {},
   "outputs": [
    {
     "data": {
      "text/plain": [
       "0    2.342182\n",
       "dtype: float64"
      ]
     },
     "execution_count": 502,
     "metadata": {},
     "output_type": "execute_result"
    }
   ],
   "source": [
    "# predictions\n",
    "columns = ['age_r', 'race', 'totincr', 'educat']\n",
    "new = pd.DataFrame([[35, 1, 14, 16]], columns=columns)\n",
    "results2.predict(new)"
   ]
  },
  {
   "cell_type": "markdown",
   "metadata": {},
   "source": [
    "**Between 2-3 children for the given demographics**"
   ]
  },
  {
   "cell_type": "markdown",
   "metadata": {},
   "source": [
    "## Exercise 11-4"
   ]
  },
  {
   "cell_type": "markdown",
   "metadata": {},
   "source": [
    "**Exercise:** If the quantity you want to predict is categorical, you can use multinomial logistic regression, which is implemented in StatsModels with a function called `mnlogit`. As an exercise, let’s use it to guess whether a woman is married, cohabitating, widowed, divorced, separated, or never married; in the NSFG dataset, marital status is encoded in a variable called `rmarital`.\n",
    "\n",
    "Suppose you meet a woman who is 25 years old, white, and a high school graduate whose annual household income is about $45,000. What is the probability that she is married, cohabitating, etc?"
   ]
  },
  {
   "cell_type": "code",
   "execution_count": 498,
   "metadata": {},
   "outputs": [
    {
     "name": "stdout",
     "output_type": "stream",
     "text": [
      "Optimization terminated successfully.\n",
      "         Current function value: 1.087603\n",
      "         Iterations 8\n"
     ]
    },
    {
     "data": {
      "text/html": [
       "<table class=\"simpletable\">\n",
       "<caption>MNLogit Regression Results</caption>\n",
       "<tr>\n",
       "  <th>Dep. Variable:</th>       <td>rmarital</td>     <th>  No. Observations:  </th>  <td>  8884</td> \n",
       "</tr>\n",
       "<tr>\n",
       "  <th>Model:</th>                <td>MNLogit</td>     <th>  Df Residuals:      </th>  <td>  8854</td> \n",
       "</tr>\n",
       "<tr>\n",
       "  <th>Method:</th>                 <td>MLE</td>       <th>  Df Model:          </th>  <td>    25</td> \n",
       "</tr>\n",
       "<tr>\n",
       "  <th>Date:</th>            <td>Mon, 09 Nov 2020</td> <th>  Pseudo R-squ.:     </th>  <td>0.1655</td> \n",
       "</tr>\n",
       "<tr>\n",
       "  <th>Time:</th>                <td>02:22:24</td>     <th>  Log-Likelihood:    </th> <td> -9662.3</td>\n",
       "</tr>\n",
       "<tr>\n",
       "  <th>converged:</th>             <td>True</td>       <th>  LL-Null:           </th> <td> -11579.</td>\n",
       "</tr>\n",
       "<tr>\n",
       "  <th>Covariance Type:</th>     <td>nonrobust</td>    <th>  LLR p-value:       </th>  <td> 0.000</td> \n",
       "</tr>\n",
       "</table>\n",
       "<table class=\"simpletable\">\n",
       "<tr>\n",
       "   <th>rmarital=2</th>     <th>coef</th>     <th>std err</th>      <th>z</th>      <th>P>|z|</th>  <th>[0.025</th>    <th>0.975]</th>  \n",
       "</tr>\n",
       "<tr>\n",
       "  <th>Intercept</th>    <td>    4.4532</td> <td>    0.279</td> <td>   15.977</td> <td> 0.000</td> <td>    3.907</td> <td>    5.000</td>\n",
       "</tr>\n",
       "<tr>\n",
       "  <th>C(race)[T.2]</th> <td>   -0.9219</td> <td>    0.089</td> <td>  -10.409</td> <td> 0.000</td> <td>   -1.095</td> <td>   -0.748</td>\n",
       "</tr>\n",
       "<tr>\n",
       "  <th>C(race)[T.3]</th> <td>   -0.6334</td> <td>    0.136</td> <td>   -4.674</td> <td> 0.000</td> <td>   -0.899</td> <td>   -0.368</td>\n",
       "</tr>\n",
       "<tr>\n",
       "  <th>age_r</th>        <td>   -0.0570</td> <td>    0.006</td> <td>   -9.754</td> <td> 0.000</td> <td>   -0.068</td> <td>   -0.046</td>\n",
       "</tr>\n",
       "<tr>\n",
       "  <th>totincr</th>      <td>   -0.1302</td> <td>    0.012</td> <td>  -11.298</td> <td> 0.000</td> <td>   -0.153</td> <td>   -0.108</td>\n",
       "</tr>\n",
       "<tr>\n",
       "  <th>educat</th>       <td>   -0.2051</td> <td>    0.019</td> <td>  -11.017</td> <td> 0.000</td> <td>   -0.242</td> <td>   -0.169</td>\n",
       "</tr>\n",
       "<tr>\n",
       "   <th>rmarital=3</th>     <th>coef</th>     <th>std err</th>      <th>z</th>      <th>P>|z|</th>  <th>[0.025</th>    <th>0.975]</th>  \n",
       "</tr>\n",
       "<tr>\n",
       "  <th>Intercept</th>    <td>   -4.5432</td> <td>    0.916</td> <td>   -4.960</td> <td> 0.000</td> <td>   -6.338</td> <td>   -2.748</td>\n",
       "</tr>\n",
       "<tr>\n",
       "  <th>C(race)[T.2]</th> <td>   -0.4405</td> <td>    0.236</td> <td>   -1.865</td> <td> 0.062</td> <td>   -0.904</td> <td>    0.023</td>\n",
       "</tr>\n",
       "<tr>\n",
       "  <th>C(race)[T.3]</th> <td>    0.0329</td> <td>    0.335</td> <td>    0.098</td> <td> 0.922</td> <td>   -0.623</td> <td>    0.689</td>\n",
       "</tr>\n",
       "<tr>\n",
       "  <th>age_r</th>        <td>    0.1301</td> <td>    0.019</td> <td>    6.833</td> <td> 0.000</td> <td>    0.093</td> <td>    0.167</td>\n",
       "</tr>\n",
       "<tr>\n",
       "  <th>totincr</th>      <td>   -0.3251</td> <td>    0.032</td> <td>  -10.182</td> <td> 0.000</td> <td>   -0.388</td> <td>   -0.263</td>\n",
       "</tr>\n",
       "<tr>\n",
       "  <th>educat</th>       <td>   -0.1010</td> <td>    0.048</td> <td>   -2.100</td> <td> 0.036</td> <td>   -0.195</td> <td>   -0.007</td>\n",
       "</tr>\n",
       "<tr>\n",
       "   <th>rmarital=4</th>     <th>coef</th>     <th>std err</th>      <th>z</th>      <th>P>|z|</th>  <th>[0.025</th>    <th>0.975]</th>  \n",
       "</tr>\n",
       "<tr>\n",
       "  <th>Intercept</th>    <td>   -2.6485</td> <td>    0.302</td> <td>   -8.783</td> <td> 0.000</td> <td>   -3.239</td> <td>   -2.057</td>\n",
       "</tr>\n",
       "<tr>\n",
       "  <th>C(race)[T.2]</th> <td>   -0.3188</td> <td>    0.093</td> <td>   -3.417</td> <td> 0.001</td> <td>   -0.502</td> <td>   -0.136</td>\n",
       "</tr>\n",
       "<tr>\n",
       "  <th>C(race)[T.3]</th> <td>   -0.7664</td> <td>    0.171</td> <td>   -4.485</td> <td> 0.000</td> <td>   -1.101</td> <td>   -0.431</td>\n",
       "</tr>\n",
       "<tr>\n",
       "  <th>age_r</th>        <td>    0.0641</td> <td>    0.007</td> <td>    9.817</td> <td> 0.000</td> <td>    0.051</td> <td>    0.077</td>\n",
       "</tr>\n",
       "<tr>\n",
       "  <th>totincr</th>      <td>   -0.2270</td> <td>    0.012</td> <td>  -19.588</td> <td> 0.000</td> <td>   -0.250</td> <td>   -0.204</td>\n",
       "</tr>\n",
       "<tr>\n",
       "  <th>educat</th>       <td>    0.0673</td> <td>    0.017</td> <td>    4.036</td> <td> 0.000</td> <td>    0.035</td> <td>    0.100</td>\n",
       "</tr>\n",
       "<tr>\n",
       "   <th>rmarital=5</th>     <th>coef</th>     <th>std err</th>      <th>z</th>      <th>P>|z|</th>  <th>[0.025</th>    <th>0.975]</th>  \n",
       "</tr>\n",
       "<tr>\n",
       "  <th>Intercept</th>    <td>    0.8231</td> <td>    0.345</td> <td>    2.385</td> <td> 0.017</td> <td>    0.147</td> <td>    1.500</td>\n",
       "</tr>\n",
       "<tr>\n",
       "  <th>C(race)[T.2]</th> <td>   -1.0491</td> <td>    0.104</td> <td>  -10.125</td> <td> 0.000</td> <td>   -1.252</td> <td>   -0.846</td>\n",
       "</tr>\n",
       "<tr>\n",
       "  <th>C(race)[T.3]</th> <td>   -0.5644</td> <td>    0.156</td> <td>   -3.624</td> <td> 0.000</td> <td>   -0.870</td> <td>   -0.259</td>\n",
       "</tr>\n",
       "<tr>\n",
       "  <th>age_r</th>        <td>    0.0063</td> <td>    0.007</td> <td>    0.872</td> <td> 0.383</td> <td>   -0.008</td> <td>    0.020</td>\n",
       "</tr>\n",
       "<tr>\n",
       "  <th>totincr</th>      <td>   -0.2923</td> <td>    0.015</td> <td>  -20.149</td> <td> 0.000</td> <td>   -0.321</td> <td>   -0.264</td>\n",
       "</tr>\n",
       "<tr>\n",
       "  <th>educat</th>       <td>   -0.0136</td> <td>    0.021</td> <td>   -0.639</td> <td> 0.523</td> <td>   -0.056</td> <td>    0.028</td>\n",
       "</tr>\n",
       "<tr>\n",
       "   <th>rmarital=6</th>     <th>coef</th>     <th>std err</th>      <th>z</th>      <th>P>|z|</th>  <th>[0.025</th>    <th>0.975]</th>  \n",
       "</tr>\n",
       "<tr>\n",
       "  <th>Intercept</th>    <td>    6.2370</td> <td>    0.275</td> <td>   22.654</td> <td> 0.000</td> <td>    5.697</td> <td>    6.777</td>\n",
       "</tr>\n",
       "<tr>\n",
       "  <th>C(race)[T.2]</th> <td>   -2.1831</td> <td>    0.080</td> <td>  -27.200</td> <td> 0.000</td> <td>   -2.340</td> <td>   -2.026</td>\n",
       "</tr>\n",
       "<tr>\n",
       "  <th>C(race)[T.3]</th> <td>   -1.9645</td> <td>    0.138</td> <td>  -14.246</td> <td> 0.000</td> <td>   -2.235</td> <td>   -1.694</td>\n",
       "</tr>\n",
       "<tr>\n",
       "  <th>age_r</th>        <td>   -0.0925</td> <td>    0.006</td> <td>  -16.121</td> <td> 0.000</td> <td>   -0.104</td> <td>   -0.081</td>\n",
       "</tr>\n",
       "<tr>\n",
       "  <th>totincr</th>      <td>   -0.2944</td> <td>    0.012</td> <td>  -25.343</td> <td> 0.000</td> <td>   -0.317</td> <td>   -0.272</td>\n",
       "</tr>\n",
       "<tr>\n",
       "  <th>educat</th>       <td>   -0.0777</td> <td>    0.018</td> <td>   -4.386</td> <td> 0.000</td> <td>   -0.112</td> <td>   -0.043</td>\n",
       "</tr>\n",
       "</table>"
      ],
      "text/plain": [
       "<class 'statsmodels.iolib.summary.Summary'>\n",
       "\"\"\"\n",
       "                          MNLogit Regression Results                          \n",
       "==============================================================================\n",
       "Dep. Variable:               rmarital   No. Observations:                 8884\n",
       "Model:                        MNLogit   Df Residuals:                     8854\n",
       "Method:                           MLE   Df Model:                           25\n",
       "Date:                Mon, 09 Nov 2020   Pseudo R-squ.:                  0.1655\n",
       "Time:                        02:22:24   Log-Likelihood:                -9662.3\n",
       "converged:                       True   LL-Null:                       -11579.\n",
       "Covariance Type:            nonrobust   LLR p-value:                     0.000\n",
       "================================================================================\n",
       "  rmarital=2       coef    std err          z      P>|z|      [0.025      0.975]\n",
       "--------------------------------------------------------------------------------\n",
       "Intercept        4.4532      0.279     15.977      0.000       3.907       5.000\n",
       "C(race)[T.2]    -0.9219      0.089    -10.409      0.000      -1.095      -0.748\n",
       "C(race)[T.3]    -0.6334      0.136     -4.674      0.000      -0.899      -0.368\n",
       "age_r           -0.0570      0.006     -9.754      0.000      -0.068      -0.046\n",
       "totincr         -0.1302      0.012    -11.298      0.000      -0.153      -0.108\n",
       "educat          -0.2051      0.019    -11.017      0.000      -0.242      -0.169\n",
       "--------------------------------------------------------------------------------\n",
       "  rmarital=3       coef    std err          z      P>|z|      [0.025      0.975]\n",
       "--------------------------------------------------------------------------------\n",
       "Intercept       -4.5432      0.916     -4.960      0.000      -6.338      -2.748\n",
       "C(race)[T.2]    -0.4405      0.236     -1.865      0.062      -0.904       0.023\n",
       "C(race)[T.3]     0.0329      0.335      0.098      0.922      -0.623       0.689\n",
       "age_r            0.1301      0.019      6.833      0.000       0.093       0.167\n",
       "totincr         -0.3251      0.032    -10.182      0.000      -0.388      -0.263\n",
       "educat          -0.1010      0.048     -2.100      0.036      -0.195      -0.007\n",
       "--------------------------------------------------------------------------------\n",
       "  rmarital=4       coef    std err          z      P>|z|      [0.025      0.975]\n",
       "--------------------------------------------------------------------------------\n",
       "Intercept       -2.6485      0.302     -8.783      0.000      -3.239      -2.057\n",
       "C(race)[T.2]    -0.3188      0.093     -3.417      0.001      -0.502      -0.136\n",
       "C(race)[T.3]    -0.7664      0.171     -4.485      0.000      -1.101      -0.431\n",
       "age_r            0.0641      0.007      9.817      0.000       0.051       0.077\n",
       "totincr         -0.2270      0.012    -19.588      0.000      -0.250      -0.204\n",
       "educat           0.0673      0.017      4.036      0.000       0.035       0.100\n",
       "--------------------------------------------------------------------------------\n",
       "  rmarital=5       coef    std err          z      P>|z|      [0.025      0.975]\n",
       "--------------------------------------------------------------------------------\n",
       "Intercept        0.8231      0.345      2.385      0.017       0.147       1.500\n",
       "C(race)[T.2]    -1.0491      0.104    -10.125      0.000      -1.252      -0.846\n",
       "C(race)[T.3]    -0.5644      0.156     -3.624      0.000      -0.870      -0.259\n",
       "age_r            0.0063      0.007      0.872      0.383      -0.008       0.020\n",
       "totincr         -0.2923      0.015    -20.149      0.000      -0.321      -0.264\n",
       "educat          -0.0136      0.021     -0.639      0.523      -0.056       0.028\n",
       "--------------------------------------------------------------------------------\n",
       "  rmarital=6       coef    std err          z      P>|z|      [0.025      0.975]\n",
       "--------------------------------------------------------------------------------\n",
       "Intercept        6.2370      0.275     22.654      0.000       5.697       6.777\n",
       "C(race)[T.2]    -2.1831      0.080    -27.200      0.000      -2.340      -2.026\n",
       "C(race)[T.3]    -1.9645      0.138    -14.246      0.000      -2.235      -1.694\n",
       "age_r           -0.0925      0.006    -16.121      0.000      -0.104      -0.081\n",
       "totincr         -0.2944      0.012    -25.343      0.000      -0.317      -0.272\n",
       "educat          -0.0777      0.018     -4.386      0.000      -0.112      -0.043\n",
       "================================================================================\n",
       "\"\"\""
      ]
     },
     "execution_count": 498,
     "metadata": {},
     "output_type": "execute_result"
    }
   ],
   "source": [
    "# multinomial logistic regression\n",
    "formula_mnlogit='rmarital ~ age_r + C(race) + totincr + educat'\n",
    "model3 = smf.mnlogit(formula_mnlogit, data=join)\n",
    "results3 = model3.fit()\n",
    "results3.summary() "
   ]
  },
  {
   "cell_type": "markdown",
   "metadata": {},
   "source": [
    "Make a prediction for a woman who is 25 years old, white, and a high\n",
    "school graduate whose annual household income is about $45,000."
   ]
  },
  {
   "cell_type": "code",
   "execution_count": 503,
   "metadata": {},
   "outputs": [
    {
     "data": {
      "text/html": [
       "<div>\n",
       "<style scoped>\n",
       "    .dataframe tbody tr th:only-of-type {\n",
       "        vertical-align: middle;\n",
       "    }\n",
       "\n",
       "    .dataframe tbody tr th {\n",
       "        vertical-align: top;\n",
       "    }\n",
       "\n",
       "    .dataframe thead th {\n",
       "        text-align: right;\n",
       "    }\n",
       "</style>\n",
       "<table border=\"1\" class=\"dataframe\">\n",
       "  <thead>\n",
       "    <tr style=\"text-align: right;\">\n",
       "      <th></th>\n",
       "      <th>0</th>\n",
       "      <th>1</th>\n",
       "      <th>2</th>\n",
       "      <th>3</th>\n",
       "      <th>4</th>\n",
       "      <th>5</th>\n",
       "    </tr>\n",
       "  </thead>\n",
       "  <tbody>\n",
       "    <tr>\n",
       "      <th>0</th>\n",
       "      <td>0.748384</td>\n",
       "      <td>0.125474</td>\n",
       "      <td>0.001103</td>\n",
       "      <td>0.035295</td>\n",
       "      <td>0.023813</td>\n",
       "      <td>0.065931</td>\n",
       "    </tr>\n",
       "  </tbody>\n",
       "</table>\n",
       "</div>"
      ],
      "text/plain": [
       "          0         1         2         3         4         5\n",
       "0  0.748384  0.125474  0.001103  0.035295  0.023813  0.065931"
      ]
     },
     "execution_count": 503,
     "metadata": {},
     "output_type": "execute_result"
    }
   ],
   "source": [
    "# predictions\n",
    "columns = ['age_r', 'race', 'totincr', 'educat']\n",
    "new = pd.DataFrame([[25, 2, 11, 12]], columns=columns)\n",
    "results3.predict(new)"
   ]
  },
  {
   "cell_type": "markdown",
   "metadata": {},
   "source": [
    "This person has 74.8% chance of being married, 12.5% chance of cohabiting, 0.1% chance of widowed, 3.5% chance of separated and 6.5% chance of being never married"
   ]
  }
 ],
 "metadata": {
  "kernelspec": {
   "display_name": "Python 3",
   "language": "python",
   "name": "python3"
  },
  "language_info": {
   "codemirror_mode": {
    "name": "ipython",
    "version": 3
   },
   "file_extension": ".py",
   "mimetype": "text/x-python",
   "name": "python",
   "nbconvert_exporter": "python",
   "pygments_lexer": "ipython3",
   "version": "3.8.3"
  }
 },
 "nbformat": 4,
 "nbformat_minor": 1
}
